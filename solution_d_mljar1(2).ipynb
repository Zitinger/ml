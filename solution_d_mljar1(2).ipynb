{
  "cells": [
    {
      "cell_type": "code",
      "execution_count": 1,
      "id": "9a769d67",
      "metadata": {
        "id": "9a769d67"
      },
      "outputs": [],
      "source": [
        "import numpy as np\n",
        "import pandas as pd"
      ]
    },
    {
      "cell_type": "code",
      "source": [
        "!pip install mljar-supervised"
      ],
      "metadata": {
        "id": "nRN9zAI4cK9G",
        "colab": {
          "base_uri": "https://localhost:8080/"
        },
        "outputId": "b136f49a-b0ab-44a9-8fc1-efd5f1d6fcab"
      },
      "id": "nRN9zAI4cK9G",
      "execution_count": 2,
      "outputs": [
        {
          "output_type": "stream",
          "name": "stdout",
          "text": [
            "Collecting mljar-supervised\n",
            "  Downloading mljar-supervised-1.1.1.tar.gz (126 kB)\n",
            "\u001b[2K     \u001b[90m━━━━━━━━━━━━━━━━━━━━━━━━━━━━━━━━━━━━━━━━\u001b[0m \u001b[32m126.9/126.9 kB\u001b[0m \u001b[31m4.0 MB/s\u001b[0m eta \u001b[36m0:00:00\u001b[0m\n",
            "\u001b[?25h  Preparing metadata (setup.py) ... \u001b[?25l\u001b[?25hdone\n",
            "Requirement already satisfied: numpy>=1.19.5 in /usr/local/lib/python3.10/dist-packages (from mljar-supervised) (1.23.5)\n",
            "Collecting pandas>=2.0.0 (from mljar-supervised)\n",
            "  Downloading pandas-2.1.4-cp310-cp310-manylinux_2_17_x86_64.manylinux2014_x86_64.whl (12.3 MB)\n",
            "\u001b[2K     \u001b[90m━━━━━━━━━━━━━━━━━━━━━━━━━━━━━━━━━━━━━━━━\u001b[0m \u001b[32m12.3/12.3 MB\u001b[0m \u001b[31m42.4 MB/s\u001b[0m eta \u001b[36m0:00:00\u001b[0m\n",
            "\u001b[?25hRequirement already satisfied: scipy>=1.6.1 in /usr/local/lib/python3.10/dist-packages (from mljar-supervised) (1.11.4)\n",
            "Requirement already satisfied: scikit-learn>=1.0 in /usr/local/lib/python3.10/dist-packages (from mljar-supervised) (1.2.2)\n",
            "Requirement already satisfied: xgboost>=2.0.0 in /usr/local/lib/python3.10/dist-packages (from mljar-supervised) (2.0.2)\n",
            "Requirement already satisfied: lightgbm>=3.0.0 in /usr/local/lib/python3.10/dist-packages (from mljar-supervised) (4.1.0)\n",
            "Collecting catboost>=0.24.4 (from mljar-supervised)\n",
            "  Downloading catboost-1.2.2-cp310-cp310-manylinux2014_x86_64.whl (98.7 MB)\n",
            "\u001b[2K     \u001b[90m━━━━━━━━━━━━━━━━━━━━━━━━━━━━━━━━━━━━━━━━\u001b[0m \u001b[32m98.7/98.7 MB\u001b[0m \u001b[31m10.4 MB/s\u001b[0m eta \u001b[36m0:00:00\u001b[0m\n",
            "\u001b[?25hRequirement already satisfied: joblib>=1.0.1 in /usr/local/lib/python3.10/dist-packages (from mljar-supervised) (1.3.2)\n",
            "Requirement already satisfied: tabulate>=0.8.7 in /usr/local/lib/python3.10/dist-packages (from mljar-supervised) (0.9.0)\n",
            "Requirement already satisfied: matplotlib>=3.2.2 in /usr/local/lib/python3.10/dist-packages (from mljar-supervised) (3.7.1)\n",
            "Collecting dtreeviz>=2.2.2 (from mljar-supervised)\n",
            "  Downloading dtreeviz-2.2.2-py3-none-any.whl (91 kB)\n",
            "\u001b[2K     \u001b[90m━━━━━━━━━━━━━━━━━━━━━━━━━━━━━━━━━━━━━━━━\u001b[0m \u001b[32m91.8/91.8 kB\u001b[0m \u001b[31m14.3 MB/s\u001b[0m eta \u001b[36m0:00:00\u001b[0m\n",
            "\u001b[?25hCollecting shap>=0.42.1 (from mljar-supervised)\n",
            "  Downloading shap-0.44.0-cp310-cp310-manylinux_2_12_x86_64.manylinux2010_x86_64.manylinux_2_17_x86_64.manylinux2014_x86_64.whl (533 kB)\n",
            "\u001b[2K     \u001b[90m━━━━━━━━━━━━━━━━━━━━━━━━━━━━━━━━━━━━━━━━\u001b[0m \u001b[32m533.5/533.5 kB\u001b[0m \u001b[31m59.3 MB/s\u001b[0m eta \u001b[36m0:00:00\u001b[0m\n",
            "\u001b[?25hRequirement already satisfied: seaborn>=0.11.1 in /usr/local/lib/python3.10/dist-packages (from mljar-supervised) (0.12.2)\n",
            "Requirement already satisfied: wordcloud>=1.8.1 in /usr/local/lib/python3.10/dist-packages (from mljar-supervised) (1.9.2)\n",
            "Collecting category_encoders>=2.2.2 (from mljar-supervised)\n",
            "  Downloading category_encoders-2.6.3-py2.py3-none-any.whl (81 kB)\n",
            "\u001b[2K     \u001b[90m━━━━━━━━━━━━━━━━━━━━━━━━━━━━━━━━━━━━━━━━\u001b[0m \u001b[32m81.9/81.9 kB\u001b[0m \u001b[31m11.3 MB/s\u001b[0m eta \u001b[36m0:00:00\u001b[0m\n",
            "\u001b[?25hCollecting optuna>=2.7.0 (from mljar-supervised)\n",
            "  Downloading optuna-3.5.0-py3-none-any.whl (413 kB)\n",
            "\u001b[2K     \u001b[90m━━━━━━━━━━━━━━━━━━━━━━━━━━━━━━━━━━━━━━━━\u001b[0m \u001b[32m413.4/413.4 kB\u001b[0m \u001b[31m45.0 MB/s\u001b[0m eta \u001b[36m0:00:00\u001b[0m\n",
            "\u001b[?25hCollecting scikit-plot==0.3.7 (from mljar-supervised)\n",
            "  Downloading scikit_plot-0.3.7-py3-none-any.whl (33 kB)\n",
            "Requirement already satisfied: markdown in /usr/local/lib/python3.10/dist-packages (from mljar-supervised) (3.5.1)\n",
            "Requirement already satisfied: typing-extensions in /usr/local/lib/python3.10/dist-packages (from mljar-supervised) (4.5.0)\n",
            "Requirement already satisfied: ipython in /usr/local/lib/python3.10/dist-packages (from mljar-supervised) (7.34.0)\n",
            "Requirement already satisfied: graphviz in /usr/local/lib/python3.10/dist-packages (from catboost>=0.24.4->mljar-supervised) (0.20.1)\n",
            "Requirement already satisfied: plotly in /usr/local/lib/python3.10/dist-packages (from catboost>=0.24.4->mljar-supervised) (5.15.0)\n",
            "Requirement already satisfied: six in /usr/local/lib/python3.10/dist-packages (from catboost>=0.24.4->mljar-supervised) (1.16.0)\n",
            "Requirement already satisfied: statsmodels>=0.9.0 in /usr/local/lib/python3.10/dist-packages (from category_encoders>=2.2.2->mljar-supervised) (0.14.0)\n",
            "Requirement already satisfied: patsy>=0.5.1 in /usr/local/lib/python3.10/dist-packages (from category_encoders>=2.2.2->mljar-supervised) (0.5.4)\n",
            "Requirement already satisfied: colour in /usr/local/lib/python3.10/dist-packages (from dtreeviz>=2.2.2->mljar-supervised) (0.1.5)\n",
            "Requirement already satisfied: pytest in /usr/local/lib/python3.10/dist-packages (from dtreeviz>=2.2.2->mljar-supervised) (7.4.3)\n",
            "Requirement already satisfied: contourpy>=1.0.1 in /usr/local/lib/python3.10/dist-packages (from matplotlib>=3.2.2->mljar-supervised) (1.2.0)\n",
            "Requirement already satisfied: cycler>=0.10 in /usr/local/lib/python3.10/dist-packages (from matplotlib>=3.2.2->mljar-supervised) (0.12.1)\n",
            "Requirement already satisfied: fonttools>=4.22.0 in /usr/local/lib/python3.10/dist-packages (from matplotlib>=3.2.2->mljar-supervised) (4.46.0)\n",
            "Requirement already satisfied: kiwisolver>=1.0.1 in /usr/local/lib/python3.10/dist-packages (from matplotlib>=3.2.2->mljar-supervised) (1.4.5)\n",
            "Requirement already satisfied: packaging>=20.0 in /usr/local/lib/python3.10/dist-packages (from matplotlib>=3.2.2->mljar-supervised) (23.2)\n",
            "Requirement already satisfied: pillow>=6.2.0 in /usr/local/lib/python3.10/dist-packages (from matplotlib>=3.2.2->mljar-supervised) (9.4.0)\n",
            "Requirement already satisfied: pyparsing>=2.3.1 in /usr/local/lib/python3.10/dist-packages (from matplotlib>=3.2.2->mljar-supervised) (3.1.1)\n",
            "Requirement already satisfied: python-dateutil>=2.7 in /usr/local/lib/python3.10/dist-packages (from matplotlib>=3.2.2->mljar-supervised) (2.8.2)\n",
            "Collecting alembic>=1.5.0 (from optuna>=2.7.0->mljar-supervised)\n",
            "  Downloading alembic-1.13.0-py3-none-any.whl (230 kB)\n",
            "\u001b[2K     \u001b[90m━━━━━━━━━━━━━━━━━━━━━━━━━━━━━━━━━━━━━━━━\u001b[0m \u001b[32m230.6/230.6 kB\u001b[0m \u001b[31m32.0 MB/s\u001b[0m eta \u001b[36m0:00:00\u001b[0m\n",
            "\u001b[?25hCollecting colorlog (from optuna>=2.7.0->mljar-supervised)\n",
            "  Downloading colorlog-6.8.0-py3-none-any.whl (11 kB)\n",
            "Requirement already satisfied: sqlalchemy>=1.3.0 in /usr/local/lib/python3.10/dist-packages (from optuna>=2.7.0->mljar-supervised) (2.0.23)\n",
            "Requirement already satisfied: tqdm in /usr/local/lib/python3.10/dist-packages (from optuna>=2.7.0->mljar-supervised) (4.66.1)\n",
            "Requirement already satisfied: PyYAML in /usr/local/lib/python3.10/dist-packages (from optuna>=2.7.0->mljar-supervised) (6.0.1)\n",
            "Requirement already satisfied: pytz>=2020.1 in /usr/local/lib/python3.10/dist-packages (from pandas>=2.0.0->mljar-supervised) (2023.3.post1)\n",
            "Collecting tzdata>=2022.1 (from pandas>=2.0.0->mljar-supervised)\n",
            "  Downloading tzdata-2023.3-py2.py3-none-any.whl (341 kB)\n",
            "\u001b[2K     \u001b[90m━━━━━━━━━━━━━━━━━━━━━━━━━━━━━━━━━━━━━━━━\u001b[0m \u001b[32m341.8/341.8 kB\u001b[0m \u001b[31m36.4 MB/s\u001b[0m eta \u001b[36m0:00:00\u001b[0m\n",
            "\u001b[?25hRequirement already satisfied: threadpoolctl>=2.0.0 in /usr/local/lib/python3.10/dist-packages (from scikit-learn>=1.0->mljar-supervised) (3.2.0)\n",
            "Collecting slicer==0.0.7 (from shap>=0.42.1->mljar-supervised)\n",
            "  Downloading slicer-0.0.7-py3-none-any.whl (14 kB)\n",
            "Requirement already satisfied: numba in /usr/local/lib/python3.10/dist-packages (from shap>=0.42.1->mljar-supervised) (0.58.1)\n",
            "Requirement already satisfied: cloudpickle in /usr/local/lib/python3.10/dist-packages (from shap>=0.42.1->mljar-supervised) (2.2.1)\n",
            "Requirement already satisfied: setuptools>=18.5 in /usr/local/lib/python3.10/dist-packages (from ipython->mljar-supervised) (67.7.2)\n",
            "Collecting jedi>=0.16 (from ipython->mljar-supervised)\n",
            "  Downloading jedi-0.19.1-py2.py3-none-any.whl (1.6 MB)\n",
            "\u001b[2K     \u001b[90m━━━━━━━━━━━━━━━━━━━━━━━━━━━━━━━━━━━━━━━━\u001b[0m \u001b[32m1.6/1.6 MB\u001b[0m \u001b[31m90.9 MB/s\u001b[0m eta \u001b[36m0:00:00\u001b[0m\n",
            "\u001b[?25hRequirement already satisfied: decorator in /usr/local/lib/python3.10/dist-packages (from ipython->mljar-supervised) (4.4.2)\n",
            "Requirement already satisfied: pickleshare in /usr/local/lib/python3.10/dist-packages (from ipython->mljar-supervised) (0.7.5)\n",
            "Requirement already satisfied: traitlets>=4.2 in /usr/local/lib/python3.10/dist-packages (from ipython->mljar-supervised) (5.7.1)\n",
            "Requirement already satisfied: prompt-toolkit!=3.0.0,!=3.0.1,<3.1.0,>=2.0.0 in /usr/local/lib/python3.10/dist-packages (from ipython->mljar-supervised) (3.0.41)\n",
            "Requirement already satisfied: pygments in /usr/local/lib/python3.10/dist-packages (from ipython->mljar-supervised) (2.16.1)\n",
            "Requirement already satisfied: backcall in /usr/local/lib/python3.10/dist-packages (from ipython->mljar-supervised) (0.2.0)\n",
            "Requirement already satisfied: matplotlib-inline in /usr/local/lib/python3.10/dist-packages (from ipython->mljar-supervised) (0.1.6)\n",
            "Requirement already satisfied: pexpect>4.3 in /usr/local/lib/python3.10/dist-packages (from ipython->mljar-supervised) (4.9.0)\n",
            "Collecting Mako (from alembic>=1.5.0->optuna>=2.7.0->mljar-supervised)\n",
            "  Downloading Mako-1.3.0-py3-none-any.whl (78 kB)\n",
            "\u001b[2K     \u001b[90m━━━━━━━━━━━━━━━━━━━━━━━━━━━━━━━━━━━━━━━━\u001b[0m \u001b[32m78.6/78.6 kB\u001b[0m \u001b[31m12.8 MB/s\u001b[0m eta \u001b[36m0:00:00\u001b[0m\n",
            "\u001b[?25hRequirement already satisfied: parso<0.9.0,>=0.8.3 in /usr/local/lib/python3.10/dist-packages (from jedi>=0.16->ipython->mljar-supervised) (0.8.3)\n",
            "Requirement already satisfied: ptyprocess>=0.5 in /usr/local/lib/python3.10/dist-packages (from pexpect>4.3->ipython->mljar-supervised) (0.7.0)\n",
            "Requirement already satisfied: wcwidth in /usr/local/lib/python3.10/dist-packages (from prompt-toolkit!=3.0.0,!=3.0.1,<3.1.0,>=2.0.0->ipython->mljar-supervised) (0.2.12)\n",
            "Requirement already satisfied: greenlet!=0.4.17 in /usr/local/lib/python3.10/dist-packages (from sqlalchemy>=1.3.0->optuna>=2.7.0->mljar-supervised) (3.0.1)\n",
            "Requirement already satisfied: llvmlite<0.42,>=0.41.0dev0 in /usr/local/lib/python3.10/dist-packages (from numba->shap>=0.42.1->mljar-supervised) (0.41.1)\n",
            "Requirement already satisfied: tenacity>=6.2.0 in /usr/local/lib/python3.10/dist-packages (from plotly->catboost>=0.24.4->mljar-supervised) (8.2.3)\n",
            "Requirement already satisfied: iniconfig in /usr/local/lib/python3.10/dist-packages (from pytest->dtreeviz>=2.2.2->mljar-supervised) (2.0.0)\n",
            "Requirement already satisfied: pluggy<2.0,>=0.12 in /usr/local/lib/python3.10/dist-packages (from pytest->dtreeviz>=2.2.2->mljar-supervised) (1.3.0)\n",
            "Requirement already satisfied: exceptiongroup>=1.0.0rc8 in /usr/local/lib/python3.10/dist-packages (from pytest->dtreeviz>=2.2.2->mljar-supervised) (1.2.0)\n",
            "Requirement already satisfied: tomli>=1.0.0 in /usr/local/lib/python3.10/dist-packages (from pytest->dtreeviz>=2.2.2->mljar-supervised) (2.0.1)\n",
            "Requirement already satisfied: MarkupSafe>=0.9.2 in /usr/local/lib/python3.10/dist-packages (from Mako->alembic>=1.5.0->optuna>=2.7.0->mljar-supervised) (2.1.3)\n",
            "Building wheels for collected packages: mljar-supervised\n",
            "  Building wheel for mljar-supervised (setup.py) ... \u001b[?25l\u001b[?25hdone\n",
            "  Created wheel for mljar-supervised: filename=mljar_supervised-1.1.1-py3-none-any.whl size=164970 sha256=154d1d240aee9da2d2545d3fb4d8811de31ee7f551965f57f7f0eaaaeae85b23\n",
            "  Stored in directory: /root/.cache/pip/wheels/e3/66/9f/bdde96c1acfe3870621cef302d8e41b5d507a4d940ce7ba16e\n",
            "Successfully built mljar-supervised\n",
            "Installing collected packages: tzdata, slicer, Mako, jedi, colorlog, pandas, alembic, shap, scikit-plot, optuna, dtreeviz, catboost, category_encoders, mljar-supervised\n",
            "  Attempting uninstall: pandas\n",
            "    Found existing installation: pandas 1.5.3\n",
            "    Uninstalling pandas-1.5.3:\n",
            "      Successfully uninstalled pandas-1.5.3\n",
            "\u001b[31mERROR: pip's dependency resolver does not currently take into account all the packages that are installed. This behaviour is the source of the following dependency conflicts.\n",
            "lida 0.0.10 requires fastapi, which is not installed.\n",
            "lida 0.0.10 requires kaleido, which is not installed.\n",
            "lida 0.0.10 requires python-multipart, which is not installed.\n",
            "lida 0.0.10 requires uvicorn, which is not installed.\n",
            "google-colab 1.0.0 requires pandas==1.5.3, but you have pandas 2.1.4 which is incompatible.\u001b[0m\u001b[31m\n",
            "\u001b[0mSuccessfully installed Mako-1.3.0 alembic-1.13.0 catboost-1.2.2 category_encoders-2.6.3 colorlog-6.8.0 dtreeviz-2.2.2 jedi-0.19.1 mljar-supervised-1.1.1 optuna-3.5.0 pandas-2.1.4 scikit-plot-0.3.7 shap-0.44.0 slicer-0.0.7 tzdata-2023.3\n"
          ]
        }
      ]
    },
    {
      "cell_type": "code",
      "source": [
        "!pip install matplotlib"
      ],
      "metadata": {
        "colab": {
          "base_uri": "https://localhost:8080/",
          "height": 461
        },
        "id": "8VfQv-5EeHBx",
        "outputId": "00ea548b-b6ef-4b2d-f4a5-38a094b7dc24"
      },
      "id": "8VfQv-5EeHBx",
      "execution_count": null,
      "outputs": [
        {
          "output_type": "stream",
          "name": "stdout",
          "text": [
            "Collecting matplotlib\n",
            "  Downloading matplotlib-3.8.2-cp310-cp310-manylinux_2_17_x86_64.manylinux2014_x86_64.whl (11.6 MB)\n",
            "\u001b[2K     \u001b[90m━━━━━━━━━━━━━━━━━━━━━━━━━━━━━━━━━━━━━━━━\u001b[0m \u001b[32m11.6/11.6 MB\u001b[0m \u001b[31m15.0 MB/s\u001b[0m eta \u001b[36m0:00:00\u001b[0m\n",
            "\u001b[?25hRequirement already satisfied: contourpy>=1.0.1 in /usr/local/lib/python3.10/dist-packages (from matplotlib) (1.2.0)\n",
            "Requirement already satisfied: cycler>=0.10 in /usr/local/lib/python3.10/dist-packages (from matplotlib) (0.12.1)\n",
            "Requirement already satisfied: fonttools>=4.22.0 in /usr/local/lib/python3.10/dist-packages (from matplotlib) (4.45.1)\n",
            "Requirement already satisfied: kiwisolver>=1.3.1 in /usr/local/lib/python3.10/dist-packages (from matplotlib) (1.4.5)\n",
            "Requirement already satisfied: numpy<2,>=1.21 in /usr/local/lib/python3.10/dist-packages (from matplotlib) (1.23.5)\n",
            "Requirement already satisfied: packaging>=20.0 in /usr/local/lib/python3.10/dist-packages (from matplotlib) (23.2)\n",
            "Requirement already satisfied: pillow>=8 in /usr/local/lib/python3.10/dist-packages (from matplotlib) (9.4.0)\n",
            "Requirement already satisfied: pyparsing>=2.3.1 in /usr/local/lib/python3.10/dist-packages (from matplotlib) (3.1.1)\n",
            "Requirement already satisfied: python-dateutil>=2.7 in /usr/local/lib/python3.10/dist-packages (from matplotlib) (2.8.2)\n",
            "Requirement already satisfied: six>=1.5 in /usr/local/lib/python3.10/dist-packages (from python-dateutil>=2.7->matplotlib) (1.16.0)\n",
            "Installing collected packages: matplotlib\n",
            "\u001b[31mERROR: pip's dependency resolver does not currently take into account all the packages that are installed. This behaviour is the source of the following dependency conflicts.\n",
            "lida 0.0.10 requires fastapi, which is not installed.\n",
            "lida 0.0.10 requires kaleido, which is not installed.\n",
            "lida 0.0.10 requires python-multipart, which is not installed.\n",
            "lida 0.0.10 requires uvicorn, which is not installed.\u001b[0m\u001b[31m\n",
            "\u001b[0mSuccessfully installed matplotlib-3.8.2\n"
          ]
        },
        {
          "output_type": "display_data",
          "data": {
            "application/vnd.colab-display-data+json": {
              "pip_warning": {
                "packages": [
                  "matplotlib",
                  "mpl_toolkits"
                ]
              }
            }
          },
          "metadata": {}
        }
      ]
    },
    {
      "cell_type": "code",
      "execution_count": null,
      "id": "e16c128b",
      "metadata": {
        "id": "e16c128b"
      },
      "outputs": [],
      "source": [
        "df = pd.read_csv(\"data.csv\")\n"
      ]
    },
    {
      "cell_type": "code",
      "source": [
        "for i in df.columns[:-1]:\n",
        "  df[i].fillna(df[i].mean(), inplace=True)"
      ],
      "metadata": {
        "id": "4S6ewXgFZ7nS"
      },
      "id": "4S6ewXgFZ7nS",
      "execution_count": null,
      "outputs": []
    },
    {
      "cell_type": "code",
      "execution_count": null,
      "id": "52538918",
      "metadata": {
        "id": "52538918"
      },
      "outputs": [],
      "source": [
        "train = df[df['target'] != '?']"
      ]
    },
    {
      "cell_type": "code",
      "execution_count": null,
      "id": "851f37c3",
      "metadata": {
        "id": "851f37c3"
      },
      "outputs": [],
      "source": [
        "testX = df.drop(['id', 'target'], axis=1).to_numpy()"
      ]
    },
    {
      "cell_type": "code",
      "source": [
        "!unzip Automl_777.zip"
      ],
      "metadata": {
        "id": "hKpVFfim6Ekz"
      },
      "id": "hKpVFfim6Ekz",
      "execution_count": null,
      "outputs": []
    },
    {
      "cell_type": "code",
      "source": [
        "from supervised import AutoML\n"
      ],
      "metadata": {
        "id": "Jn7ArKRL6WnN"
      },
      "id": "Jn7ArKRL6WnN",
      "execution_count": null,
      "outputs": []
    },
    {
      "cell_type": "code",
      "source": [
        "# automl = AutoML(mode=\"Compete\", results_path='Automl_777', total_time_limit=7200) # обучение\n"
      ],
      "metadata": {
        "id": "EC6R2dyJ6zRC"
      },
      "id": "EC6R2dyJ6zRC",
      "execution_count": null,
      "outputs": []
    },
    {
      "cell_type": "code",
      "source": [
        "# automl.fit(train.iloc[:,:-1], train['target']) # обучение"
      ],
      "metadata": {
        "colab": {
          "base_uri": "https://localhost:8080/",
          "height": 1000
        },
        "id": "2SRHCL3Ifq6B",
        "outputId": "8d61a5e8-f8ed-4d32-f070-bb5a91cc2192"
      },
      "id": "2SRHCL3Ifq6B",
      "execution_count": null,
      "outputs": [
        {
          "output_type": "stream",
          "name": "stdout",
          "text": [
            "AutoML directory: /content/drive/MyDrive/Colab_Notebooks/nto/Automl_777\n",
            "The task is multiclass_classification with evaluation metric logloss\n",
            "AutoML will use algorithms: ['Decision Tree', 'Linear', 'Random Forest', 'Extra Trees', 'LightGBM', 'Xgboost', 'CatBoost', 'Neural Network', 'Nearest Neighbors']\n",
            "AutoML will stack models\n",
            "AutoML will ensemble available models\n",
            "AutoML steps: ['adjust_validation', 'simple_algorithms', 'default_algorithms', 'not_so_random', 'golden_features', 'kmeans_features', 'insert_random_feature', 'features_selection', 'hill_climbing_1', 'hill_climbing_2', 'boost_on_errors', 'ensemble', 'stack', 'ensemble_stacked']\n",
            "* Step adjust_validation will try to check up to 1 model\n",
            "1_DecisionTree logloss 2.742064 trained in 0.5 seconds\n",
            "Adjust validation. Remove: 1_DecisionTree\n",
            "*** Disable stacking for small dataset (nrows < 500)\n",
            "Validation strategy: 10-fold CV Shuffle,Stratify\n",
            "* Step simple_algorithms will try to check up to 4 models\n",
            "1_DecisionTree logloss 2.356133 trained in 2.75 seconds\n",
            "2_DecisionTree logloss 2.797116 trained in 2.68 seconds\n",
            "3_DecisionTree logloss 2.792957 trained in 4.5 seconds\n",
            "4_Linear logloss 0.898803 trained in 4.99 seconds\n",
            "* Step default_algorithms will try to check up to 7 models\n",
            "5_Default_LightGBM logloss 1.098371 trained in 19.98 seconds\n",
            "6_Default_Xgboost logloss 1.068889 trained in 30.98 seconds\n",
            "7_Default_CatBoost logloss 0.849309 trained in 114.71 seconds\n",
            "8_Default_NeuralNetwork logloss 2.35885 trained in 6.58 seconds\n"
          ]
        },
        {
          "output_type": "stream",
          "name": "stderr",
          "text": [
            "/usr/local/lib/python3.10/dist-packages/supervised/utils/learning_curves.py:113: FutureWarning: The behavior of Series.argmax/argmin with skipna=False and NAs, or with all-NAs is deprecated. In a future version this will raise ValueError.\n",
            "/usr/local/lib/python3.10/dist-packages/supervised/utils/learning_curves.py:113: FutureWarning: The behavior of Series.argmax/argmin with skipna=False and NAs, or with all-NAs is deprecated. In a future version this will raise ValueError.\n",
            "/usr/local/lib/python3.10/dist-packages/supervised/utils/learning_curves.py:113: FutureWarning: The behavior of Series.argmax/argmin with skipna=False and NAs, or with all-NAs is deprecated. In a future version this will raise ValueError.\n",
            "/usr/local/lib/python3.10/dist-packages/supervised/utils/learning_curves.py:113: FutureWarning: The behavior of Series.argmax/argmin with skipna=False and NAs, or with all-NAs is deprecated. In a future version this will raise ValueError.\n",
            "/usr/local/lib/python3.10/dist-packages/supervised/utils/learning_curves.py:113: FutureWarning: The behavior of Series.argmax/argmin with skipna=False and NAs, or with all-NAs is deprecated. In a future version this will raise ValueError.\n",
            "/usr/local/lib/python3.10/dist-packages/supervised/utils/learning_curves.py:113: FutureWarning: The behavior of Series.argmax/argmin with skipna=False and NAs, or with all-NAs is deprecated. In a future version this will raise ValueError.\n",
            "/usr/local/lib/python3.10/dist-packages/supervised/utils/learning_curves.py:113: FutureWarning: The behavior of Series.argmax/argmin with skipna=False and NAs, or with all-NAs is deprecated. In a future version this will raise ValueError.\n",
            "/usr/local/lib/python3.10/dist-packages/supervised/utils/learning_curves.py:113: FutureWarning: The behavior of Series.argmax/argmin with skipna=False and NAs, or with all-NAs is deprecated. In a future version this will raise ValueError.\n",
            "/usr/local/lib/python3.10/dist-packages/supervised/utils/learning_curves.py:113: FutureWarning: The behavior of Series.argmax/argmin with skipna=False and NAs, or with all-NAs is deprecated. In a future version this will raise ValueError.\n",
            "/usr/local/lib/python3.10/dist-packages/supervised/utils/learning_curves.py:113: FutureWarning: The behavior of Series.argmax/argmin with skipna=False and NAs, or with all-NAs is deprecated. In a future version this will raise ValueError.\n"
          ]
        },
        {
          "output_type": "stream",
          "name": "stdout",
          "text": [
            "9_Default_RandomForest logloss 1.607207 trained in 18.61 seconds\n",
            "10_Default_ExtraTrees logloss 1.696401 trained in 15.0 seconds\n",
            "11_Default_NearestNeighbors logloss 3.099327 trained in 5.94 seconds\n",
            "* Step not_so_random will try to check up to 61 models\n",
            "21_LightGBM logloss 0.959179 trained in 12.96 seconds\n",
            "12_Xgboost logloss 1.03924 trained in 18.83 seconds\n",
            "30_CatBoost logloss 0.832039 trained in 34.38 seconds\n",
            "39_RandomForest logloss 1.605152 trained in 18.26 seconds\n",
            "48_ExtraTrees logloss 1.684979 trained in 13.24 seconds\n",
            "57_NeuralNetwork logloss 2.202568 trained in 8.64 seconds\n"
          ]
        },
        {
          "output_type": "stream",
          "name": "stderr",
          "text": [
            "/usr/local/lib/python3.10/dist-packages/supervised/utils/learning_curves.py:113: FutureWarning: The behavior of Series.argmax/argmin with skipna=False and NAs, or with all-NAs is deprecated. In a future version this will raise ValueError.\n",
            "/usr/local/lib/python3.10/dist-packages/supervised/utils/learning_curves.py:113: FutureWarning: The behavior of Series.argmax/argmin with skipna=False and NAs, or with all-NAs is deprecated. In a future version this will raise ValueError.\n",
            "/usr/local/lib/python3.10/dist-packages/supervised/utils/learning_curves.py:113: FutureWarning: The behavior of Series.argmax/argmin with skipna=False and NAs, or with all-NAs is deprecated. In a future version this will raise ValueError.\n",
            "/usr/local/lib/python3.10/dist-packages/supervised/utils/learning_curves.py:113: FutureWarning: The behavior of Series.argmax/argmin with skipna=False and NAs, or with all-NAs is deprecated. In a future version this will raise ValueError.\n",
            "/usr/local/lib/python3.10/dist-packages/supervised/utils/learning_curves.py:113: FutureWarning: The behavior of Series.argmax/argmin with skipna=False and NAs, or with all-NAs is deprecated. In a future version this will raise ValueError.\n",
            "/usr/local/lib/python3.10/dist-packages/supervised/utils/learning_curves.py:113: FutureWarning: The behavior of Series.argmax/argmin with skipna=False and NAs, or with all-NAs is deprecated. In a future version this will raise ValueError.\n",
            "/usr/local/lib/python3.10/dist-packages/supervised/utils/learning_curves.py:113: FutureWarning: The behavior of Series.argmax/argmin with skipna=False and NAs, or with all-NAs is deprecated. In a future version this will raise ValueError.\n",
            "/usr/local/lib/python3.10/dist-packages/supervised/utils/learning_curves.py:113: FutureWarning: The behavior of Series.argmax/argmin with skipna=False and NAs, or with all-NAs is deprecated. In a future version this will raise ValueError.\n",
            "/usr/local/lib/python3.10/dist-packages/supervised/utils/learning_curves.py:113: FutureWarning: The behavior of Series.argmax/argmin with skipna=False and NAs, or with all-NAs is deprecated. In a future version this will raise ValueError.\n",
            "/usr/local/lib/python3.10/dist-packages/supervised/utils/learning_curves.py:113: FutureWarning: The behavior of Series.argmax/argmin with skipna=False and NAs, or with all-NAs is deprecated. In a future version this will raise ValueError.\n"
          ]
        },
        {
          "output_type": "stream",
          "name": "stdout",
          "text": [
            "66_NearestNeighbors logloss 2.602027 trained in 7.68 seconds\n",
            "22_LightGBM logloss 0.996148 trained in 10.68 seconds\n",
            "13_Xgboost logloss 1.068407 trained in 26.49 seconds\n",
            "31_CatBoost logloss 0.880429 trained in 88.01 seconds\n",
            "40_RandomForest logloss 1.508707 trained in 28.49 seconds\n",
            "49_ExtraTrees logloss 1.515655 trained in 20.14 seconds\n",
            "58_NeuralNetwork logloss 1.223068 trained in 11.26 seconds\n"
          ]
        },
        {
          "output_type": "stream",
          "name": "stderr",
          "text": [
            "/usr/local/lib/python3.10/dist-packages/supervised/utils/learning_curves.py:113: FutureWarning: The behavior of Series.argmax/argmin with skipna=False and NAs, or with all-NAs is deprecated. In a future version this will raise ValueError.\n",
            "/usr/local/lib/python3.10/dist-packages/supervised/utils/learning_curves.py:113: FutureWarning: The behavior of Series.argmax/argmin with skipna=False and NAs, or with all-NAs is deprecated. In a future version this will raise ValueError.\n",
            "/usr/local/lib/python3.10/dist-packages/supervised/utils/learning_curves.py:113: FutureWarning: The behavior of Series.argmax/argmin with skipna=False and NAs, or with all-NAs is deprecated. In a future version this will raise ValueError.\n",
            "/usr/local/lib/python3.10/dist-packages/supervised/utils/learning_curves.py:113: FutureWarning: The behavior of Series.argmax/argmin with skipna=False and NAs, or with all-NAs is deprecated. In a future version this will raise ValueError.\n",
            "/usr/local/lib/python3.10/dist-packages/supervised/utils/learning_curves.py:113: FutureWarning: The behavior of Series.argmax/argmin with skipna=False and NAs, or with all-NAs is deprecated. In a future version this will raise ValueError.\n",
            "/usr/local/lib/python3.10/dist-packages/supervised/utils/learning_curves.py:113: FutureWarning: The behavior of Series.argmax/argmin with skipna=False and NAs, or with all-NAs is deprecated. In a future version this will raise ValueError.\n",
            "/usr/local/lib/python3.10/dist-packages/supervised/utils/learning_curves.py:113: FutureWarning: The behavior of Series.argmax/argmin with skipna=False and NAs, or with all-NAs is deprecated. In a future version this will raise ValueError.\n",
            "/usr/local/lib/python3.10/dist-packages/supervised/utils/learning_curves.py:113: FutureWarning: The behavior of Series.argmax/argmin with skipna=False and NAs, or with all-NAs is deprecated. In a future version this will raise ValueError.\n",
            "/usr/local/lib/python3.10/dist-packages/supervised/utils/learning_curves.py:113: FutureWarning: The behavior of Series.argmax/argmin with skipna=False and NAs, or with all-NAs is deprecated. In a future version this will raise ValueError.\n",
            "/usr/local/lib/python3.10/dist-packages/supervised/utils/learning_curves.py:113: FutureWarning: The behavior of Series.argmax/argmin with skipna=False and NAs, or with all-NAs is deprecated. In a future version this will raise ValueError.\n"
          ]
        },
        {
          "output_type": "stream",
          "name": "stdout",
          "text": [
            "67_NearestNeighbors logloss 2.580271 trained in 8.87 seconds\n",
            "23_LightGBM logloss 1.001383 trained in 19.67 seconds\n",
            "14_Xgboost logloss 1.275942 trained in 17.47 seconds\n",
            "32_CatBoost logloss 0.911203 trained in 159.25 seconds\n",
            "41_RandomForest logloss 1.728329 trained in 22.13 seconds\n",
            "50_ExtraTrees logloss 1.804632 trained in 17.0 seconds\n",
            "59_NeuralNetwork logloss 2.549413 trained in 13.52 seconds\n"
          ]
        },
        {
          "output_type": "stream",
          "name": "stderr",
          "text": [
            "/usr/local/lib/python3.10/dist-packages/supervised/utils/learning_curves.py:113: FutureWarning: The behavior of Series.argmax/argmin with skipna=False and NAs, or with all-NAs is deprecated. In a future version this will raise ValueError.\n",
            "/usr/local/lib/python3.10/dist-packages/supervised/utils/learning_curves.py:113: FutureWarning: The behavior of Series.argmax/argmin with skipna=False and NAs, or with all-NAs is deprecated. In a future version this will raise ValueError.\n",
            "/usr/local/lib/python3.10/dist-packages/supervised/utils/learning_curves.py:113: FutureWarning: The behavior of Series.argmax/argmin with skipna=False and NAs, or with all-NAs is deprecated. In a future version this will raise ValueError.\n",
            "/usr/local/lib/python3.10/dist-packages/supervised/utils/learning_curves.py:113: FutureWarning: The behavior of Series.argmax/argmin with skipna=False and NAs, or with all-NAs is deprecated. In a future version this will raise ValueError.\n",
            "/usr/local/lib/python3.10/dist-packages/supervised/utils/learning_curves.py:113: FutureWarning: The behavior of Series.argmax/argmin with skipna=False and NAs, or with all-NAs is deprecated. In a future version this will raise ValueError.\n",
            "/usr/local/lib/python3.10/dist-packages/supervised/utils/learning_curves.py:113: FutureWarning: The behavior of Series.argmax/argmin with skipna=False and NAs, or with all-NAs is deprecated. In a future version this will raise ValueError.\n",
            "/usr/local/lib/python3.10/dist-packages/supervised/utils/learning_curves.py:113: FutureWarning: The behavior of Series.argmax/argmin with skipna=False and NAs, or with all-NAs is deprecated. In a future version this will raise ValueError.\n",
            "/usr/local/lib/python3.10/dist-packages/supervised/utils/learning_curves.py:113: FutureWarning: The behavior of Series.argmax/argmin with skipna=False and NAs, or with all-NAs is deprecated. In a future version this will raise ValueError.\n",
            "/usr/local/lib/python3.10/dist-packages/supervised/utils/learning_curves.py:113: FutureWarning: The behavior of Series.argmax/argmin with skipna=False and NAs, or with all-NAs is deprecated. In a future version this will raise ValueError.\n",
            "/usr/local/lib/python3.10/dist-packages/supervised/utils/learning_curves.py:113: FutureWarning: The behavior of Series.argmax/argmin with skipna=False and NAs, or with all-NAs is deprecated. In a future version this will raise ValueError.\n"
          ]
        },
        {
          "output_type": "stream",
          "name": "stdout",
          "text": [
            "68_NearestNeighbors logloss 2.580271 trained in 10.0 seconds\n",
            "24_LightGBM logloss 1.135454 trained in 24.92 seconds\n",
            "15_Xgboost logloss 2.278538 trained in 11.47 seconds\n",
            "33_CatBoost logloss 0.895752 trained in 192.81 seconds\n",
            "42_RandomForest logloss 1.650865 trained in 25.32 seconds\n",
            "51_ExtraTrees logloss 1.641882 trained in 21.72 seconds\n",
            "60_NeuralNetwork logloss 2.695618 trained in 12.43 seconds\n"
          ]
        },
        {
          "output_type": "stream",
          "name": "stderr",
          "text": [
            "/usr/local/lib/python3.10/dist-packages/supervised/utils/learning_curves.py:113: FutureWarning: The behavior of Series.argmax/argmin with skipna=False and NAs, or with all-NAs is deprecated. In a future version this will raise ValueError.\n",
            "/usr/local/lib/python3.10/dist-packages/supervised/utils/learning_curves.py:113: FutureWarning: The behavior of Series.argmax/argmin with skipna=False and NAs, or with all-NAs is deprecated. In a future version this will raise ValueError.\n",
            "/usr/local/lib/python3.10/dist-packages/supervised/utils/learning_curves.py:113: FutureWarning: The behavior of Series.argmax/argmin with skipna=False and NAs, or with all-NAs is deprecated. In a future version this will raise ValueError.\n",
            "/usr/local/lib/python3.10/dist-packages/supervised/utils/learning_curves.py:113: FutureWarning: The behavior of Series.argmax/argmin with skipna=False and NAs, or with all-NAs is deprecated. In a future version this will raise ValueError.\n",
            "/usr/local/lib/python3.10/dist-packages/supervised/utils/learning_curves.py:113: FutureWarning: The behavior of Series.argmax/argmin with skipna=False and NAs, or with all-NAs is deprecated. In a future version this will raise ValueError.\n",
            "/usr/local/lib/python3.10/dist-packages/supervised/utils/learning_curves.py:113: FutureWarning: The behavior of Series.argmax/argmin with skipna=False and NAs, or with all-NAs is deprecated. In a future version this will raise ValueError.\n",
            "/usr/local/lib/python3.10/dist-packages/supervised/utils/learning_curves.py:113: FutureWarning: The behavior of Series.argmax/argmin with skipna=False and NAs, or with all-NAs is deprecated. In a future version this will raise ValueError.\n",
            "/usr/local/lib/python3.10/dist-packages/supervised/utils/learning_curves.py:113: FutureWarning: The behavior of Series.argmax/argmin with skipna=False and NAs, or with all-NAs is deprecated. In a future version this will raise ValueError.\n",
            "/usr/local/lib/python3.10/dist-packages/supervised/utils/learning_curves.py:113: FutureWarning: The behavior of Series.argmax/argmin with skipna=False and NAs, or with all-NAs is deprecated. In a future version this will raise ValueError.\n",
            "/usr/local/lib/python3.10/dist-packages/supervised/utils/learning_curves.py:113: FutureWarning: The behavior of Series.argmax/argmin with skipna=False and NAs, or with all-NAs is deprecated. In a future version this will raise ValueError.\n"
          ]
        },
        {
          "output_type": "stream",
          "name": "stdout",
          "text": [
            "69_NearestNeighbors logloss 2.602027 trained in 10.82 seconds\n",
            "25_LightGBM logloss 0.953815 trained in 13.54 seconds\n",
            "16_Xgboost logloss 2.241651 trained in 17.25 seconds\n",
            "34_CatBoost logloss 0.850098 trained in 89.0 seconds\n",
            "43_RandomForest logloss 1.745907 trained in 23.52 seconds\n",
            "52_ExtraTrees logloss 1.793722 trained in 19.14 seconds\n",
            "61_NeuralNetwork logloss 1.246029 trained in 15.23 seconds\n"
          ]
        },
        {
          "output_type": "stream",
          "name": "stderr",
          "text": [
            "/usr/local/lib/python3.10/dist-packages/supervised/utils/learning_curves.py:113: FutureWarning: The behavior of Series.argmax/argmin with skipna=False and NAs, or with all-NAs is deprecated. In a future version this will raise ValueError.\n",
            "/usr/local/lib/python3.10/dist-packages/supervised/utils/learning_curves.py:113: FutureWarning: The behavior of Series.argmax/argmin with skipna=False and NAs, or with all-NAs is deprecated. In a future version this will raise ValueError.\n",
            "/usr/local/lib/python3.10/dist-packages/supervised/utils/learning_curves.py:113: FutureWarning: The behavior of Series.argmax/argmin with skipna=False and NAs, or with all-NAs is deprecated. In a future version this will raise ValueError.\n",
            "/usr/local/lib/python3.10/dist-packages/supervised/utils/learning_curves.py:113: FutureWarning: The behavior of Series.argmax/argmin with skipna=False and NAs, or with all-NAs is deprecated. In a future version this will raise ValueError.\n",
            "/usr/local/lib/python3.10/dist-packages/supervised/utils/learning_curves.py:113: FutureWarning: The behavior of Series.argmax/argmin with skipna=False and NAs, or with all-NAs is deprecated. In a future version this will raise ValueError.\n",
            "/usr/local/lib/python3.10/dist-packages/supervised/utils/learning_curves.py:113: FutureWarning: The behavior of Series.argmax/argmin with skipna=False and NAs, or with all-NAs is deprecated. In a future version this will raise ValueError.\n",
            "/usr/local/lib/python3.10/dist-packages/supervised/utils/learning_curves.py:113: FutureWarning: The behavior of Series.argmax/argmin with skipna=False and NAs, or with all-NAs is deprecated. In a future version this will raise ValueError.\n",
            "/usr/local/lib/python3.10/dist-packages/supervised/utils/learning_curves.py:113: FutureWarning: The behavior of Series.argmax/argmin with skipna=False and NAs, or with all-NAs is deprecated. In a future version this will raise ValueError.\n",
            "/usr/local/lib/python3.10/dist-packages/supervised/utils/learning_curves.py:113: FutureWarning: The behavior of Series.argmax/argmin with skipna=False and NAs, or with all-NAs is deprecated. In a future version this will raise ValueError.\n",
            "/usr/local/lib/python3.10/dist-packages/supervised/utils/learning_curves.py:113: FutureWarning: The behavior of Series.argmax/argmin with skipna=False and NAs, or with all-NAs is deprecated. In a future version this will raise ValueError.\n"
          ]
        },
        {
          "output_type": "stream",
          "name": "stdout",
          "text": [
            "70_NearestNeighbors logloss 4.589641 trained in 12.35 seconds\n",
            "26_LightGBM logloss 0.957663 trained in 24.13 seconds\n",
            "17_Xgboost logloss 1.425073 trained in 19.74 seconds\n",
            "35_CatBoost logloss 0.834777 trained in 34.17 seconds\n",
            "44_RandomForest logloss 1.566883 trained in 31.56 seconds\n",
            "53_ExtraTrees logloss 1.557316 trained in 24.56 seconds\n",
            "62_NeuralNetwork logloss 1.870078 trained in 16.85 seconds\n"
          ]
        },
        {
          "output_type": "stream",
          "name": "stderr",
          "text": [
            "/usr/local/lib/python3.10/dist-packages/supervised/utils/learning_curves.py:113: FutureWarning: The behavior of Series.argmax/argmin with skipna=False and NAs, or with all-NAs is deprecated. In a future version this will raise ValueError.\n",
            "/usr/local/lib/python3.10/dist-packages/supervised/utils/learning_curves.py:113: FutureWarning: The behavior of Series.argmax/argmin with skipna=False and NAs, or with all-NAs is deprecated. In a future version this will raise ValueError.\n",
            "/usr/local/lib/python3.10/dist-packages/supervised/utils/learning_curves.py:113: FutureWarning: The behavior of Series.argmax/argmin with skipna=False and NAs, or with all-NAs is deprecated. In a future version this will raise ValueError.\n",
            "/usr/local/lib/python3.10/dist-packages/supervised/utils/learning_curves.py:113: FutureWarning: The behavior of Series.argmax/argmin with skipna=False and NAs, or with all-NAs is deprecated. In a future version this will raise ValueError.\n",
            "/usr/local/lib/python3.10/dist-packages/supervised/utils/learning_curves.py:113: FutureWarning: The behavior of Series.argmax/argmin with skipna=False and NAs, or with all-NAs is deprecated. In a future version this will raise ValueError.\n",
            "/usr/local/lib/python3.10/dist-packages/supervised/utils/learning_curves.py:113: FutureWarning: The behavior of Series.argmax/argmin with skipna=False and NAs, or with all-NAs is deprecated. In a future version this will raise ValueError.\n",
            "/usr/local/lib/python3.10/dist-packages/supervised/utils/learning_curves.py:113: FutureWarning: The behavior of Series.argmax/argmin with skipna=False and NAs, or with all-NAs is deprecated. In a future version this will raise ValueError.\n",
            "/usr/local/lib/python3.10/dist-packages/supervised/utils/learning_curves.py:113: FutureWarning: The behavior of Series.argmax/argmin with skipna=False and NAs, or with all-NAs is deprecated. In a future version this will raise ValueError.\n",
            "/usr/local/lib/python3.10/dist-packages/supervised/utils/learning_curves.py:113: FutureWarning: The behavior of Series.argmax/argmin with skipna=False and NAs, or with all-NAs is deprecated. In a future version this will raise ValueError.\n",
            "/usr/local/lib/python3.10/dist-packages/supervised/utils/learning_curves.py:113: FutureWarning: The behavior of Series.argmax/argmin with skipna=False and NAs, or with all-NAs is deprecated. In a future version this will raise ValueError.\n"
          ]
        },
        {
          "output_type": "stream",
          "name": "stdout",
          "text": [
            "71_NearestNeighbors logloss 2.602027 trained in 13.2 seconds\n",
            "27_LightGBM logloss 0.956191 trained in 23.84 seconds\n",
            "18_Xgboost logloss 0.952471 trained in 29.16 seconds\n",
            "36_CatBoost logloss 0.862698 trained in 142.79 seconds\n",
            "45_RandomForest logloss 1.592632 trained in 29.77 seconds\n",
            "54_ExtraTrees logloss 1.630091 trained in 27.27 seconds\n",
            "63_NeuralNetwork logloss 1.411958 trained in 17.04 seconds\n"
          ]
        },
        {
          "output_type": "stream",
          "name": "stderr",
          "text": [
            "/usr/local/lib/python3.10/dist-packages/supervised/utils/learning_curves.py:113: FutureWarning: The behavior of Series.argmax/argmin with skipna=False and NAs, or with all-NAs is deprecated. In a future version this will raise ValueError.\n",
            "/usr/local/lib/python3.10/dist-packages/supervised/utils/learning_curves.py:113: FutureWarning: The behavior of Series.argmax/argmin with skipna=False and NAs, or with all-NAs is deprecated. In a future version this will raise ValueError.\n",
            "/usr/local/lib/python3.10/dist-packages/supervised/utils/learning_curves.py:113: FutureWarning: The behavior of Series.argmax/argmin with skipna=False and NAs, or with all-NAs is deprecated. In a future version this will raise ValueError.\n",
            "/usr/local/lib/python3.10/dist-packages/supervised/utils/learning_curves.py:113: FutureWarning: The behavior of Series.argmax/argmin with skipna=False and NAs, or with all-NAs is deprecated. In a future version this will raise ValueError.\n",
            "/usr/local/lib/python3.10/dist-packages/supervised/utils/learning_curves.py:113: FutureWarning: The behavior of Series.argmax/argmin with skipna=False and NAs, or with all-NAs is deprecated. In a future version this will raise ValueError.\n",
            "/usr/local/lib/python3.10/dist-packages/supervised/utils/learning_curves.py:113: FutureWarning: The behavior of Series.argmax/argmin with skipna=False and NAs, or with all-NAs is deprecated. In a future version this will raise ValueError.\n",
            "/usr/local/lib/python3.10/dist-packages/supervised/utils/learning_curves.py:113: FutureWarning: The behavior of Series.argmax/argmin with skipna=False and NAs, or with all-NAs is deprecated. In a future version this will raise ValueError.\n",
            "/usr/local/lib/python3.10/dist-packages/supervised/utils/learning_curves.py:113: FutureWarning: The behavior of Series.argmax/argmin with skipna=False and NAs, or with all-NAs is deprecated. In a future version this will raise ValueError.\n",
            "/usr/local/lib/python3.10/dist-packages/supervised/utils/learning_curves.py:113: FutureWarning: The behavior of Series.argmax/argmin with skipna=False and NAs, or with all-NAs is deprecated. In a future version this will raise ValueError.\n",
            "/usr/local/lib/python3.10/dist-packages/supervised/utils/learning_curves.py:113: FutureWarning: The behavior of Series.argmax/argmin with skipna=False and NAs, or with all-NAs is deprecated. In a future version this will raise ValueError.\n"
          ]
        },
        {
          "output_type": "stream",
          "name": "stdout",
          "text": [
            "72_NearestNeighbors logloss 4.575425 trained in 14.61 seconds\n",
            "28_LightGBM logloss 1.14898 trained in 20.29 seconds\n",
            "19_Xgboost logloss 2.176231 trained in 16.8 seconds\n",
            "37_CatBoost logloss 0.825383 trained in 65.74 seconds\n",
            "46_RandomForest logloss 1.602455 trained in 29.87 seconds\n",
            "55_ExtraTrees logloss 1.693289 trained in 25.37 seconds\n",
            "64_NeuralNetwork logloss 2.296128 trained in 17.82 seconds\n"
          ]
        },
        {
          "output_type": "stream",
          "name": "stderr",
          "text": [
            "/usr/local/lib/python3.10/dist-packages/supervised/utils/learning_curves.py:113: FutureWarning: The behavior of Series.argmax/argmin with skipna=False and NAs, or with all-NAs is deprecated. In a future version this will raise ValueError.\n",
            "/usr/local/lib/python3.10/dist-packages/supervised/utils/learning_curves.py:113: FutureWarning: The behavior of Series.argmax/argmin with skipna=False and NAs, or with all-NAs is deprecated. In a future version this will raise ValueError.\n",
            "/usr/local/lib/python3.10/dist-packages/supervised/utils/learning_curves.py:113: FutureWarning: The behavior of Series.argmax/argmin with skipna=False and NAs, or with all-NAs is deprecated. In a future version this will raise ValueError.\n",
            "/usr/local/lib/python3.10/dist-packages/supervised/utils/learning_curves.py:113: FutureWarning: The behavior of Series.argmax/argmin with skipna=False and NAs, or with all-NAs is deprecated. In a future version this will raise ValueError.\n",
            "/usr/local/lib/python3.10/dist-packages/supervised/utils/learning_curves.py:113: FutureWarning: The behavior of Series.argmax/argmin with skipna=False and NAs, or with all-NAs is deprecated. In a future version this will raise ValueError.\n",
            "/usr/local/lib/python3.10/dist-packages/supervised/utils/learning_curves.py:113: FutureWarning: The behavior of Series.argmax/argmin with skipna=False and NAs, or with all-NAs is deprecated. In a future version this will raise ValueError.\n",
            "/usr/local/lib/python3.10/dist-packages/supervised/utils/learning_curves.py:113: FutureWarning: The behavior of Series.argmax/argmin with skipna=False and NAs, or with all-NAs is deprecated. In a future version this will raise ValueError.\n",
            "/usr/local/lib/python3.10/dist-packages/supervised/utils/learning_curves.py:113: FutureWarning: The behavior of Series.argmax/argmin with skipna=False and NAs, or with all-NAs is deprecated. In a future version this will raise ValueError.\n",
            "/usr/local/lib/python3.10/dist-packages/supervised/utils/learning_curves.py:113: FutureWarning: The behavior of Series.argmax/argmin with skipna=False and NAs, or with all-NAs is deprecated. In a future version this will raise ValueError.\n",
            "/usr/local/lib/python3.10/dist-packages/supervised/utils/learning_curves.py:113: FutureWarning: The behavior of Series.argmax/argmin with skipna=False and NAs, or with all-NAs is deprecated. In a future version this will raise ValueError.\n"
          ]
        },
        {
          "output_type": "stream",
          "name": "stdout",
          "text": [
            "29_LightGBM logloss 0.951139 trained in 24.32 seconds\n",
            "20_Xgboost logloss 0.982853 trained in 42.94 seconds\n",
            "38_CatBoost logloss 0.880996 trained in 260.29 seconds\n",
            "47_RandomForest logloss 1.649701 trained in 28.56 seconds\n",
            "56_ExtraTrees logloss 1.651956 trained in 25.24 seconds\n",
            "65_NeuralNetwork logloss 2.705903 trained in 19.42 seconds\n"
          ]
        },
        {
          "output_type": "stream",
          "name": "stderr",
          "text": [
            "/usr/local/lib/python3.10/dist-packages/supervised/utils/learning_curves.py:113: FutureWarning: The behavior of Series.argmax/argmin with skipna=False and NAs, or with all-NAs is deprecated. In a future version this will raise ValueError.\n",
            "/usr/local/lib/python3.10/dist-packages/supervised/utils/learning_curves.py:113: FutureWarning: The behavior of Series.argmax/argmin with skipna=False and NAs, or with all-NAs is deprecated. In a future version this will raise ValueError.\n",
            "/usr/local/lib/python3.10/dist-packages/supervised/utils/learning_curves.py:113: FutureWarning: The behavior of Series.argmax/argmin with skipna=False and NAs, or with all-NAs is deprecated. In a future version this will raise ValueError.\n",
            "/usr/local/lib/python3.10/dist-packages/supervised/utils/learning_curves.py:113: FutureWarning: The behavior of Series.argmax/argmin with skipna=False and NAs, or with all-NAs is deprecated. In a future version this will raise ValueError.\n",
            "/usr/local/lib/python3.10/dist-packages/supervised/utils/learning_curves.py:113: FutureWarning: The behavior of Series.argmax/argmin with skipna=False and NAs, or with all-NAs is deprecated. In a future version this will raise ValueError.\n",
            "/usr/local/lib/python3.10/dist-packages/supervised/utils/learning_curves.py:113: FutureWarning: The behavior of Series.argmax/argmin with skipna=False and NAs, or with all-NAs is deprecated. In a future version this will raise ValueError.\n",
            "/usr/local/lib/python3.10/dist-packages/supervised/utils/learning_curves.py:113: FutureWarning: The behavior of Series.argmax/argmin with skipna=False and NAs, or with all-NAs is deprecated. In a future version this will raise ValueError.\n",
            "/usr/local/lib/python3.10/dist-packages/supervised/utils/learning_curves.py:113: FutureWarning: The behavior of Series.argmax/argmin with skipna=False and NAs, or with all-NAs is deprecated. In a future version this will raise ValueError.\n",
            "/usr/local/lib/python3.10/dist-packages/supervised/utils/learning_curves.py:113: FutureWarning: The behavior of Series.argmax/argmin with skipna=False and NAs, or with all-NAs is deprecated. In a future version this will raise ValueError.\n",
            "/usr/local/lib/python3.10/dist-packages/supervised/utils/learning_curves.py:113: FutureWarning: The behavior of Series.argmax/argmin with skipna=False and NAs, or with all-NAs is deprecated. In a future version this will raise ValueError.\n"
          ]
        },
        {
          "output_type": "stream",
          "name": "stdout",
          "text": [
            "* Step golden_features will try to check up to 3 models\n",
            "None 10\n",
            "Add Golden Feature: f12_diff_f42\n",
            "Add Golden Feature: f34_diff_f42\n",
            "Add Golden Feature: f37_sum_f8\n",
            "Add Golden Feature: f37_multiply_f8\n",
            "Add Golden Feature: f34_sum_f12\n",
            "Add Golden Feature: f42_sum_f12\n",
            "Add Golden Feature: f12_diff_f34\n",
            "Add Golden Feature: f31_multiply_id\n",
            "Add Golden Feature: f42_multiply_f12\n",
            "Add Golden Feature: f37_ratio_f34\n",
            "Created 10 Golden Features in 18.92 seconds.\n",
            "37_CatBoost_GoldenFeatures logloss 0.831438 trained in 88.15 seconds\n",
            "30_CatBoost_GoldenFeatures logloss 0.830207 trained in 44.41 seconds\n",
            "35_CatBoost_GoldenFeatures logloss 0.823777 trained in 39.07 seconds\n",
            "* Step kmeans_features will try to check up to 3 models\n"
          ]
        },
        {
          "output_type": "stream",
          "name": "stderr",
          "text": [
            "/usr/local/lib/python3.10/dist-packages/sklearn/cluster/_kmeans.py:870: FutureWarning: The default value of `n_init` will change from 3 to 'auto' in 1.4. Set the value of `n_init` explicitly to suppress the warning\n",
            "/usr/local/lib/python3.10/dist-packages/sklearn/cluster/_kmeans.py:870: FutureWarning: The default value of `n_init` will change from 3 to 'auto' in 1.4. Set the value of `n_init` explicitly to suppress the warning\n",
            "/usr/local/lib/python3.10/dist-packages/sklearn/cluster/_kmeans.py:870: FutureWarning: The default value of `n_init` will change from 3 to 'auto' in 1.4. Set the value of `n_init` explicitly to suppress the warning\n",
            "/usr/local/lib/python3.10/dist-packages/sklearn/cluster/_kmeans.py:870: FutureWarning: The default value of `n_init` will change from 3 to 'auto' in 1.4. Set the value of `n_init` explicitly to suppress the warning\n",
            "/usr/local/lib/python3.10/dist-packages/sklearn/cluster/_kmeans.py:870: FutureWarning: The default value of `n_init` will change from 3 to 'auto' in 1.4. Set the value of `n_init` explicitly to suppress the warning\n",
            "/usr/local/lib/python3.10/dist-packages/sklearn/cluster/_kmeans.py:870: FutureWarning: The default value of `n_init` will change from 3 to 'auto' in 1.4. Set the value of `n_init` explicitly to suppress the warning\n",
            "/usr/local/lib/python3.10/dist-packages/sklearn/cluster/_kmeans.py:870: FutureWarning: The default value of `n_init` will change from 3 to 'auto' in 1.4. Set the value of `n_init` explicitly to suppress the warning\n",
            "/usr/local/lib/python3.10/dist-packages/sklearn/cluster/_kmeans.py:870: FutureWarning: The default value of `n_init` will change from 3 to 'auto' in 1.4. Set the value of `n_init` explicitly to suppress the warning\n",
            "/usr/local/lib/python3.10/dist-packages/sklearn/cluster/_kmeans.py:870: FutureWarning: The default value of `n_init` will change from 3 to 'auto' in 1.4. Set the value of `n_init` explicitly to suppress the warning\n",
            "/usr/local/lib/python3.10/dist-packages/sklearn/cluster/_kmeans.py:870: FutureWarning: The default value of `n_init` will change from 3 to 'auto' in 1.4. Set the value of `n_init` explicitly to suppress the warning\n"
          ]
        },
        {
          "output_type": "stream",
          "name": "stdout",
          "text": [
            "37_CatBoost_KMeansFeatures logloss 0.864243 trained in 124.09 seconds\n"
          ]
        },
        {
          "output_type": "stream",
          "name": "stderr",
          "text": [
            "/usr/local/lib/python3.10/dist-packages/sklearn/cluster/_kmeans.py:870: FutureWarning: The default value of `n_init` will change from 3 to 'auto' in 1.4. Set the value of `n_init` explicitly to suppress the warning\n",
            "/usr/local/lib/python3.10/dist-packages/sklearn/cluster/_kmeans.py:870: FutureWarning: The default value of `n_init` will change from 3 to 'auto' in 1.4. Set the value of `n_init` explicitly to suppress the warning\n",
            "/usr/local/lib/python3.10/dist-packages/sklearn/cluster/_kmeans.py:870: FutureWarning: The default value of `n_init` will change from 3 to 'auto' in 1.4. Set the value of `n_init` explicitly to suppress the warning\n",
            "/usr/local/lib/python3.10/dist-packages/sklearn/cluster/_kmeans.py:870: FutureWarning: The default value of `n_init` will change from 3 to 'auto' in 1.4. Set the value of `n_init` explicitly to suppress the warning\n",
            "/usr/local/lib/python3.10/dist-packages/sklearn/cluster/_kmeans.py:870: FutureWarning: The default value of `n_init` will change from 3 to 'auto' in 1.4. Set the value of `n_init` explicitly to suppress the warning\n",
            "/usr/local/lib/python3.10/dist-packages/sklearn/cluster/_kmeans.py:870: FutureWarning: The default value of `n_init` will change from 3 to 'auto' in 1.4. Set the value of `n_init` explicitly to suppress the warning\n",
            "/usr/local/lib/python3.10/dist-packages/sklearn/cluster/_kmeans.py:870: FutureWarning: The default value of `n_init` will change from 3 to 'auto' in 1.4. Set the value of `n_init` explicitly to suppress the warning\n",
            "/usr/local/lib/python3.10/dist-packages/sklearn/cluster/_kmeans.py:870: FutureWarning: The default value of `n_init` will change from 3 to 'auto' in 1.4. Set the value of `n_init` explicitly to suppress the warning\n",
            "/usr/local/lib/python3.10/dist-packages/sklearn/cluster/_kmeans.py:870: FutureWarning: The default value of `n_init` will change from 3 to 'auto' in 1.4. Set the value of `n_init` explicitly to suppress the warning\n",
            "/usr/local/lib/python3.10/dist-packages/sklearn/cluster/_kmeans.py:870: FutureWarning: The default value of `n_init` will change from 3 to 'auto' in 1.4. Set the value of `n_init` explicitly to suppress the warning\n"
          ]
        },
        {
          "output_type": "stream",
          "name": "stdout",
          "text": [
            "30_CatBoost_KMeansFeatures logloss 0.85511 trained in 94.29 seconds\n"
          ]
        },
        {
          "output_type": "stream",
          "name": "stderr",
          "text": [
            "/usr/local/lib/python3.10/dist-packages/sklearn/cluster/_kmeans.py:870: FutureWarning: The default value of `n_init` will change from 3 to 'auto' in 1.4. Set the value of `n_init` explicitly to suppress the warning\n",
            "/usr/local/lib/python3.10/dist-packages/sklearn/cluster/_kmeans.py:870: FutureWarning: The default value of `n_init` will change from 3 to 'auto' in 1.4. Set the value of `n_init` explicitly to suppress the warning\n",
            "/usr/local/lib/python3.10/dist-packages/sklearn/cluster/_kmeans.py:870: FutureWarning: The default value of `n_init` will change from 3 to 'auto' in 1.4. Set the value of `n_init` explicitly to suppress the warning\n",
            "/usr/local/lib/python3.10/dist-packages/sklearn/cluster/_kmeans.py:870: FutureWarning: The default value of `n_init` will change from 3 to 'auto' in 1.4. Set the value of `n_init` explicitly to suppress the warning\n",
            "/usr/local/lib/python3.10/dist-packages/sklearn/cluster/_kmeans.py:870: FutureWarning: The default value of `n_init` will change from 3 to 'auto' in 1.4. Set the value of `n_init` explicitly to suppress the warning\n",
            "/usr/local/lib/python3.10/dist-packages/sklearn/cluster/_kmeans.py:870: FutureWarning: The default value of `n_init` will change from 3 to 'auto' in 1.4. Set the value of `n_init` explicitly to suppress the warning\n",
            "/usr/local/lib/python3.10/dist-packages/sklearn/cluster/_kmeans.py:870: FutureWarning: The default value of `n_init` will change from 3 to 'auto' in 1.4. Set the value of `n_init` explicitly to suppress the warning\n",
            "/usr/local/lib/python3.10/dist-packages/sklearn/cluster/_kmeans.py:870: FutureWarning: The default value of `n_init` will change from 3 to 'auto' in 1.4. Set the value of `n_init` explicitly to suppress the warning\n",
            "/usr/local/lib/python3.10/dist-packages/sklearn/cluster/_kmeans.py:870: FutureWarning: The default value of `n_init` will change from 3 to 'auto' in 1.4. Set the value of `n_init` explicitly to suppress the warning\n",
            "/usr/local/lib/python3.10/dist-packages/sklearn/cluster/_kmeans.py:870: FutureWarning: The default value of `n_init` will change from 3 to 'auto' in 1.4. Set the value of `n_init` explicitly to suppress the warning\n"
          ]
        },
        {
          "output_type": "stream",
          "name": "stdout",
          "text": [
            "35_CatBoost_KMeansFeatures logloss 0.891659 trained in 64.56 seconds\n",
            "* Step insert_random_feature will try to check up to 1 model\n",
            "35_CatBoost_GoldenFeatures_RandomFeature logloss 0.856312 trained in 63.82 seconds\n",
            "Drop features ['f11', 'random_feature', 'f12_diff_f42', 'f42_sum_f12', 'f42', 'f34_diff_f42', 'f14', 'f22', 'f12_diff_f34', 'f12', 'f28', 'f37_ratio_f34', 'f33', 'f2', 'f21', 'f37_sum_f8', 'f34_sum_f12', 'f42_multiply_f12', 'id', 'f8', 'f34', 'f38', 'f37_multiply_f8', 'f37', 'f31_multiply_id']\n",
            "* Step features_selection will try to check up to 6 models\n",
            "35_CatBoost_GoldenFeatures_SelectedFeatures logloss 0.868995 trained in 31.57 seconds\n",
            "29_LightGBM_SelectedFeatures logloss 1.010353 trained in 26.12 seconds\n",
            "18_Xgboost_SelectedFeatures logloss 0.976722 trained in 31.6 seconds\n",
            "58_NeuralNetwork_SelectedFeatures logloss 1.29421 trained in 21.53 seconds\n"
          ]
        },
        {
          "output_type": "stream",
          "name": "stderr",
          "text": [
            "/usr/local/lib/python3.10/dist-packages/supervised/utils/learning_curves.py:113: FutureWarning: The behavior of Series.argmax/argmin with skipna=False and NAs, or with all-NAs is deprecated. In a future version this will raise ValueError.\n",
            "/usr/local/lib/python3.10/dist-packages/supervised/utils/learning_curves.py:113: FutureWarning: The behavior of Series.argmax/argmin with skipna=False and NAs, or with all-NAs is deprecated. In a future version this will raise ValueError.\n",
            "/usr/local/lib/python3.10/dist-packages/supervised/utils/learning_curves.py:113: FutureWarning: The behavior of Series.argmax/argmin with skipna=False and NAs, or with all-NAs is deprecated. In a future version this will raise ValueError.\n",
            "/usr/local/lib/python3.10/dist-packages/supervised/utils/learning_curves.py:113: FutureWarning: The behavior of Series.argmax/argmin with skipna=False and NAs, or with all-NAs is deprecated. In a future version this will raise ValueError.\n",
            "/usr/local/lib/python3.10/dist-packages/supervised/utils/learning_curves.py:113: FutureWarning: The behavior of Series.argmax/argmin with skipna=False and NAs, or with all-NAs is deprecated. In a future version this will raise ValueError.\n",
            "/usr/local/lib/python3.10/dist-packages/supervised/utils/learning_curves.py:113: FutureWarning: The behavior of Series.argmax/argmin with skipna=False and NAs, or with all-NAs is deprecated. In a future version this will raise ValueError.\n",
            "/usr/local/lib/python3.10/dist-packages/supervised/utils/learning_curves.py:113: FutureWarning: The behavior of Series.argmax/argmin with skipna=False and NAs, or with all-NAs is deprecated. In a future version this will raise ValueError.\n",
            "/usr/local/lib/python3.10/dist-packages/supervised/utils/learning_curves.py:113: FutureWarning: The behavior of Series.argmax/argmin with skipna=False and NAs, or with all-NAs is deprecated. In a future version this will raise ValueError.\n",
            "/usr/local/lib/python3.10/dist-packages/supervised/utils/learning_curves.py:113: FutureWarning: The behavior of Series.argmax/argmin with skipna=False and NAs, or with all-NAs is deprecated. In a future version this will raise ValueError.\n",
            "/usr/local/lib/python3.10/dist-packages/supervised/utils/learning_curves.py:113: FutureWarning: The behavior of Series.argmax/argmin with skipna=False and NAs, or with all-NAs is deprecated. In a future version this will raise ValueError.\n"
          ]
        },
        {
          "output_type": "stream",
          "name": "stdout",
          "text": [
            "40_RandomForest_SelectedFeatures logloss 1.526813 trained in 32.58 seconds\n",
            "49_ExtraTrees_SelectedFeatures logloss 1.528504 trained in 30.39 seconds\n",
            "* Step hill_climbing_1 will try to check up to 37 models\n",
            "73_CatBoost_GoldenFeatures logloss 0.839493 trained in 58.95 seconds\n",
            "74_CatBoost logloss 0.841432 trained in 42.98 seconds\n",
            "75_CatBoost logloss 0.863943 trained in 104.77 seconds\n",
            "76_CatBoost_GoldenFeatures logloss 0.840678 trained in 76.88 seconds\n",
            "77_LightGBM logloss 1.01126 trained in 28.61 seconds\n",
            "78_LightGBM logloss 0.967881 trained in 27.59 seconds\n",
            "79_Xgboost logloss 0.950381 trained in 34.78 seconds\n",
            "80_Xgboost logloss 0.955277 trained in 36.43 seconds\n",
            "81_LightGBM logloss 0.985324 trained in 23.12 seconds\n",
            "82_LightGBM logloss 0.949199 trained in 22.33 seconds\n",
            "83_LightGBM logloss 1.007482 trained in 31.72 seconds\n",
            "84_LightGBM logloss 0.958273 trained in 28.85 seconds\n",
            "85_Xgboost_SelectedFeatures logloss 0.981617 trained in 35.29 seconds\n",
            "86_Xgboost_SelectedFeatures logloss 0.974254 trained in 35.15 seconds\n",
            "87_Xgboost logloss 0.963506 trained in 51.82 seconds\n",
            "88_Xgboost logloss 0.992258 trained in 55.56 seconds\n",
            "89_NeuralNetwork logloss 1.595516 trained in 25.5 seconds\n"
          ]
        },
        {
          "output_type": "stream",
          "name": "stderr",
          "text": [
            "/usr/local/lib/python3.10/dist-packages/supervised/utils/learning_curves.py:113: FutureWarning: The behavior of Series.argmax/argmin with skipna=False and NAs, or with all-NAs is deprecated. In a future version this will raise ValueError.\n",
            "/usr/local/lib/python3.10/dist-packages/supervised/utils/learning_curves.py:113: FutureWarning: The behavior of Series.argmax/argmin with skipna=False and NAs, or with all-NAs is deprecated. In a future version this will raise ValueError.\n",
            "/usr/local/lib/python3.10/dist-packages/supervised/utils/learning_curves.py:113: FutureWarning: The behavior of Series.argmax/argmin with skipna=False and NAs, or with all-NAs is deprecated. In a future version this will raise ValueError.\n",
            "/usr/local/lib/python3.10/dist-packages/supervised/utils/learning_curves.py:113: FutureWarning: The behavior of Series.argmax/argmin with skipna=False and NAs, or with all-NAs is deprecated. In a future version this will raise ValueError.\n",
            "/usr/local/lib/python3.10/dist-packages/supervised/utils/learning_curves.py:113: FutureWarning: The behavior of Series.argmax/argmin with skipna=False and NAs, or with all-NAs is deprecated. In a future version this will raise ValueError.\n",
            "/usr/local/lib/python3.10/dist-packages/supervised/utils/learning_curves.py:113: FutureWarning: The behavior of Series.argmax/argmin with skipna=False and NAs, or with all-NAs is deprecated. In a future version this will raise ValueError.\n",
            "/usr/local/lib/python3.10/dist-packages/supervised/utils/learning_curves.py:113: FutureWarning: The behavior of Series.argmax/argmin with skipna=False and NAs, or with all-NAs is deprecated. In a future version this will raise ValueError.\n",
            "/usr/local/lib/python3.10/dist-packages/supervised/utils/learning_curves.py:113: FutureWarning: The behavior of Series.argmax/argmin with skipna=False and NAs, or with all-NAs is deprecated. In a future version this will raise ValueError.\n",
            "/usr/local/lib/python3.10/dist-packages/supervised/utils/learning_curves.py:113: FutureWarning: The behavior of Series.argmax/argmin with skipna=False and NAs, or with all-NAs is deprecated. In a future version this will raise ValueError.\n",
            "/usr/local/lib/python3.10/dist-packages/supervised/utils/learning_curves.py:113: FutureWarning: The behavior of Series.argmax/argmin with skipna=False and NAs, or with all-NAs is deprecated. In a future version this will raise ValueError.\n"
          ]
        },
        {
          "output_type": "stream",
          "name": "stdout",
          "text": [
            "90_NeuralNetwork logloss 1.314001 trained in 26.77 seconds\n"
          ]
        },
        {
          "output_type": "stream",
          "name": "stderr",
          "text": [
            "/usr/local/lib/python3.10/dist-packages/supervised/utils/learning_curves.py:113: FutureWarning: The behavior of Series.argmax/argmin with skipna=False and NAs, or with all-NAs is deprecated. In a future version this will raise ValueError.\n",
            "/usr/local/lib/python3.10/dist-packages/supervised/utils/learning_curves.py:113: FutureWarning: The behavior of Series.argmax/argmin with skipna=False and NAs, or with all-NAs is deprecated. In a future version this will raise ValueError.\n",
            "/usr/local/lib/python3.10/dist-packages/supervised/utils/learning_curves.py:113: FutureWarning: The behavior of Series.argmax/argmin with skipna=False and NAs, or with all-NAs is deprecated. In a future version this will raise ValueError.\n",
            "/usr/local/lib/python3.10/dist-packages/supervised/utils/learning_curves.py:113: FutureWarning: The behavior of Series.argmax/argmin with skipna=False and NAs, or with all-NAs is deprecated. In a future version this will raise ValueError.\n",
            "/usr/local/lib/python3.10/dist-packages/supervised/utils/learning_curves.py:113: FutureWarning: The behavior of Series.argmax/argmin with skipna=False and NAs, or with all-NAs is deprecated. In a future version this will raise ValueError.\n",
            "/usr/local/lib/python3.10/dist-packages/supervised/utils/learning_curves.py:113: FutureWarning: The behavior of Series.argmax/argmin with skipna=False and NAs, or with all-NAs is deprecated. In a future version this will raise ValueError.\n",
            "/usr/local/lib/python3.10/dist-packages/supervised/utils/learning_curves.py:113: FutureWarning: The behavior of Series.argmax/argmin with skipna=False and NAs, or with all-NAs is deprecated. In a future version this will raise ValueError.\n",
            "/usr/local/lib/python3.10/dist-packages/supervised/utils/learning_curves.py:113: FutureWarning: The behavior of Series.argmax/argmin with skipna=False and NAs, or with all-NAs is deprecated. In a future version this will raise ValueError.\n",
            "/usr/local/lib/python3.10/dist-packages/supervised/utils/learning_curves.py:113: FutureWarning: The behavior of Series.argmax/argmin with skipna=False and NAs, or with all-NAs is deprecated. In a future version this will raise ValueError.\n",
            "/usr/local/lib/python3.10/dist-packages/supervised/utils/learning_curves.py:113: FutureWarning: The behavior of Series.argmax/argmin with skipna=False and NAs, or with all-NAs is deprecated. In a future version this will raise ValueError.\n"
          ]
        },
        {
          "output_type": "stream",
          "name": "stdout",
          "text": [
            "91_NeuralNetwork logloss 1.43423 trained in 25.81 seconds\n"
          ]
        },
        {
          "output_type": "stream",
          "name": "stderr",
          "text": [
            "/usr/local/lib/python3.10/dist-packages/supervised/utils/learning_curves.py:113: FutureWarning: The behavior of Series.argmax/argmin with skipna=False and NAs, or with all-NAs is deprecated. In a future version this will raise ValueError.\n",
            "/usr/local/lib/python3.10/dist-packages/supervised/utils/learning_curves.py:113: FutureWarning: The behavior of Series.argmax/argmin with skipna=False and NAs, or with all-NAs is deprecated. In a future version this will raise ValueError.\n",
            "/usr/local/lib/python3.10/dist-packages/supervised/utils/learning_curves.py:113: FutureWarning: The behavior of Series.argmax/argmin with skipna=False and NAs, or with all-NAs is deprecated. In a future version this will raise ValueError.\n",
            "/usr/local/lib/python3.10/dist-packages/supervised/utils/learning_curves.py:113: FutureWarning: The behavior of Series.argmax/argmin with skipna=False and NAs, or with all-NAs is deprecated. In a future version this will raise ValueError.\n",
            "/usr/local/lib/python3.10/dist-packages/supervised/utils/learning_curves.py:113: FutureWarning: The behavior of Series.argmax/argmin with skipna=False and NAs, or with all-NAs is deprecated. In a future version this will raise ValueError.\n",
            "/usr/local/lib/python3.10/dist-packages/supervised/utils/learning_curves.py:113: FutureWarning: The behavior of Series.argmax/argmin with skipna=False and NAs, or with all-NAs is deprecated. In a future version this will raise ValueError.\n",
            "/usr/local/lib/python3.10/dist-packages/supervised/utils/learning_curves.py:113: FutureWarning: The behavior of Series.argmax/argmin with skipna=False and NAs, or with all-NAs is deprecated. In a future version this will raise ValueError.\n",
            "/usr/local/lib/python3.10/dist-packages/supervised/utils/learning_curves.py:113: FutureWarning: The behavior of Series.argmax/argmin with skipna=False and NAs, or with all-NAs is deprecated. In a future version this will raise ValueError.\n",
            "/usr/local/lib/python3.10/dist-packages/supervised/utils/learning_curves.py:113: FutureWarning: The behavior of Series.argmax/argmin with skipna=False and NAs, or with all-NAs is deprecated. In a future version this will raise ValueError.\n",
            "/usr/local/lib/python3.10/dist-packages/supervised/utils/learning_curves.py:113: FutureWarning: The behavior of Series.argmax/argmin with skipna=False and NAs, or with all-NAs is deprecated. In a future version this will raise ValueError.\n"
          ]
        },
        {
          "output_type": "stream",
          "name": "stdout",
          "text": [
            "92_NeuralNetwork logloss 1.438126 trained in 28.86 seconds\n"
          ]
        },
        {
          "output_type": "stream",
          "name": "stderr",
          "text": [
            "/usr/local/lib/python3.10/dist-packages/supervised/utils/learning_curves.py:113: FutureWarning: The behavior of Series.argmax/argmin with skipna=False and NAs, or with all-NAs is deprecated. In a future version this will raise ValueError.\n",
            "/usr/local/lib/python3.10/dist-packages/supervised/utils/learning_curves.py:113: FutureWarning: The behavior of Series.argmax/argmin with skipna=False and NAs, or with all-NAs is deprecated. In a future version this will raise ValueError.\n",
            "/usr/local/lib/python3.10/dist-packages/supervised/utils/learning_curves.py:113: FutureWarning: The behavior of Series.argmax/argmin with skipna=False and NAs, or with all-NAs is deprecated. In a future version this will raise ValueError.\n",
            "/usr/local/lib/python3.10/dist-packages/supervised/utils/learning_curves.py:113: FutureWarning: The behavior of Series.argmax/argmin with skipna=False and NAs, or with all-NAs is deprecated. In a future version this will raise ValueError.\n",
            "/usr/local/lib/python3.10/dist-packages/supervised/utils/learning_curves.py:113: FutureWarning: The behavior of Series.argmax/argmin with skipna=False and NAs, or with all-NAs is deprecated. In a future version this will raise ValueError.\n",
            "/usr/local/lib/python3.10/dist-packages/supervised/utils/learning_curves.py:113: FutureWarning: The behavior of Series.argmax/argmin with skipna=False and NAs, or with all-NAs is deprecated. In a future version this will raise ValueError.\n",
            "/usr/local/lib/python3.10/dist-packages/supervised/utils/learning_curves.py:113: FutureWarning: The behavior of Series.argmax/argmin with skipna=False and NAs, or with all-NAs is deprecated. In a future version this will raise ValueError.\n",
            "/usr/local/lib/python3.10/dist-packages/supervised/utils/learning_curves.py:113: FutureWarning: The behavior of Series.argmax/argmin with skipna=False and NAs, or with all-NAs is deprecated. In a future version this will raise ValueError.\n",
            "/usr/local/lib/python3.10/dist-packages/supervised/utils/learning_curves.py:113: FutureWarning: The behavior of Series.argmax/argmin with skipna=False and NAs, or with all-NAs is deprecated. In a future version this will raise ValueError.\n",
            "/usr/local/lib/python3.10/dist-packages/supervised/utils/learning_curves.py:113: FutureWarning: The behavior of Series.argmax/argmin with skipna=False and NAs, or with all-NAs is deprecated. In a future version this will raise ValueError.\n"
          ]
        },
        {
          "output_type": "stream",
          "name": "stdout",
          "text": [
            "93_NeuralNetwork_SelectedFeatures logloss 1.375493 trained in 26.37 seconds\n"
          ]
        },
        {
          "output_type": "stream",
          "name": "stderr",
          "text": [
            "/usr/local/lib/python3.10/dist-packages/supervised/utils/learning_curves.py:113: FutureWarning: The behavior of Series.argmax/argmin with skipna=False and NAs, or with all-NAs is deprecated. In a future version this will raise ValueError.\n",
            "/usr/local/lib/python3.10/dist-packages/supervised/utils/learning_curves.py:113: FutureWarning: The behavior of Series.argmax/argmin with skipna=False and NAs, or with all-NAs is deprecated. In a future version this will raise ValueError.\n",
            "/usr/local/lib/python3.10/dist-packages/supervised/utils/learning_curves.py:113: FutureWarning: The behavior of Series.argmax/argmin with skipna=False and NAs, or with all-NAs is deprecated. In a future version this will raise ValueError.\n",
            "/usr/local/lib/python3.10/dist-packages/supervised/utils/learning_curves.py:113: FutureWarning: The behavior of Series.argmax/argmin with skipna=False and NAs, or with all-NAs is deprecated. In a future version this will raise ValueError.\n",
            "/usr/local/lib/python3.10/dist-packages/supervised/utils/learning_curves.py:113: FutureWarning: The behavior of Series.argmax/argmin with skipna=False and NAs, or with all-NAs is deprecated. In a future version this will raise ValueError.\n",
            "/usr/local/lib/python3.10/dist-packages/supervised/utils/learning_curves.py:113: FutureWarning: The behavior of Series.argmax/argmin with skipna=False and NAs, or with all-NAs is deprecated. In a future version this will raise ValueError.\n",
            "/usr/local/lib/python3.10/dist-packages/supervised/utils/learning_curves.py:113: FutureWarning: The behavior of Series.argmax/argmin with skipna=False and NAs, or with all-NAs is deprecated. In a future version this will raise ValueError.\n",
            "/usr/local/lib/python3.10/dist-packages/supervised/utils/learning_curves.py:113: FutureWarning: The behavior of Series.argmax/argmin with skipna=False and NAs, or with all-NAs is deprecated. In a future version this will raise ValueError.\n",
            "/usr/local/lib/python3.10/dist-packages/supervised/utils/learning_curves.py:113: FutureWarning: The behavior of Series.argmax/argmin with skipna=False and NAs, or with all-NAs is deprecated. In a future version this will raise ValueError.\n",
            "/usr/local/lib/python3.10/dist-packages/supervised/utils/learning_curves.py:113: FutureWarning: The behavior of Series.argmax/argmin with skipna=False and NAs, or with all-NAs is deprecated. In a future version this will raise ValueError.\n"
          ]
        },
        {
          "output_type": "stream",
          "name": "stdout",
          "text": [
            "94_NeuralNetwork_SelectedFeatures logloss 1.346275 trained in 28.83 seconds\n"
          ]
        },
        {
          "output_type": "stream",
          "name": "stderr",
          "text": [
            "/usr/local/lib/python3.10/dist-packages/supervised/utils/learning_curves.py:113: FutureWarning: The behavior of Series.argmax/argmin with skipna=False and NAs, or with all-NAs is deprecated. In a future version this will raise ValueError.\n",
            "/usr/local/lib/python3.10/dist-packages/supervised/utils/learning_curves.py:113: FutureWarning: The behavior of Series.argmax/argmin with skipna=False and NAs, or with all-NAs is deprecated. In a future version this will raise ValueError.\n",
            "/usr/local/lib/python3.10/dist-packages/supervised/utils/learning_curves.py:113: FutureWarning: The behavior of Series.argmax/argmin with skipna=False and NAs, or with all-NAs is deprecated. In a future version this will raise ValueError.\n",
            "/usr/local/lib/python3.10/dist-packages/supervised/utils/learning_curves.py:113: FutureWarning: The behavior of Series.argmax/argmin with skipna=False and NAs, or with all-NAs is deprecated. In a future version this will raise ValueError.\n",
            "/usr/local/lib/python3.10/dist-packages/supervised/utils/learning_curves.py:113: FutureWarning: The behavior of Series.argmax/argmin with skipna=False and NAs, or with all-NAs is deprecated. In a future version this will raise ValueError.\n",
            "/usr/local/lib/python3.10/dist-packages/supervised/utils/learning_curves.py:113: FutureWarning: The behavior of Series.argmax/argmin with skipna=False and NAs, or with all-NAs is deprecated. In a future version this will raise ValueError.\n",
            "/usr/local/lib/python3.10/dist-packages/supervised/utils/learning_curves.py:113: FutureWarning: The behavior of Series.argmax/argmin with skipna=False and NAs, or with all-NAs is deprecated. In a future version this will raise ValueError.\n",
            "/usr/local/lib/python3.10/dist-packages/supervised/utils/learning_curves.py:113: FutureWarning: The behavior of Series.argmax/argmin with skipna=False and NAs, or with all-NAs is deprecated. In a future version this will raise ValueError.\n",
            "/usr/local/lib/python3.10/dist-packages/supervised/utils/learning_curves.py:113: FutureWarning: The behavior of Series.argmax/argmin with skipna=False and NAs, or with all-NAs is deprecated. In a future version this will raise ValueError.\n",
            "/usr/local/lib/python3.10/dist-packages/supervised/utils/learning_curves.py:113: FutureWarning: The behavior of Series.argmax/argmin with skipna=False and NAs, or with all-NAs is deprecated. In a future version this will raise ValueError.\n"
          ]
        },
        {
          "output_type": "stream",
          "name": "stdout",
          "text": [
            "95_RandomForest logloss 1.512418 trained in 39.99 seconds\n",
            "96_RandomForest logloss 1.50989 trained in 41.26 seconds\n",
            "97_ExtraTrees logloss 1.530965 trained in 35.7 seconds\n",
            "98_ExtraTrees logloss 1.513373 trained in 38.79 seconds\n",
            "99_RandomForest_SelectedFeatures logloss 1.545228 trained in 36.3 seconds\n",
            "100_RandomForest_SelectedFeatures logloss 1.520178 trained in 36.91 seconds\n",
            "101_ExtraTrees_SelectedFeatures logloss 1.536854 trained in 33.65 seconds\n",
            "102_ExtraTrees_SelectedFeatures logloss 1.520904 trained in 34.84 seconds\n",
            "103_ExtraTrees logloss 1.554286 trained in 34.1 seconds\n",
            "104_RandomForest logloss 1.557493 trained in 36.81 seconds\n",
            "105_DecisionTree logloss 2.55494 trained in 24.42 seconds\n",
            "106_NearestNeighbors logloss 3.080852 trained in 25.64 seconds\n",
            "107_NearestNeighbors logloss 3.080852 trained in 25.19 seconds\n",
            "108_DecisionTree logloss 3.347101 trained in 24.79 seconds\n",
            "109_DecisionTree logloss 3.320154 trained in 25.21 seconds\n",
            "* Step hill_climbing_2 will try to check up to 27 models\n",
            "110_CatBoost_GoldenFeatures logloss 0.840099 trained in 49.89 seconds\n",
            "111_CatBoost logloss 0.833018 trained in 68.95 seconds\n",
            "112_CatBoost_GoldenFeatures logloss 0.841881 trained in 51.65 seconds\n",
            "113_CatBoost_GoldenFeatures logloss 0.827491 trained in 62.46 seconds\n",
            "114_LightGBM logloss 0.949199 trained in 28.7 seconds\n",
            "115_LightGBM logloss 0.949199 trained in 28.71 seconds\n",
            "116_Xgboost logloss 0.95072 trained in 37.86 seconds\n",
            "117_LightGBM logloss 0.948684 trained in 36.61 seconds\n",
            "118_Xgboost logloss 0.949669 trained in 37.67 seconds\n",
            "119_LightGBM logloss 0.953815 trained in 29.7 seconds\n",
            "120_LightGBM logloss 0.953815 trained in 30.22 seconds\n",
            "121_Xgboost logloss 0.959415 trained in 38.51 seconds\n",
            "122_NeuralNetwork logloss 2.682297 trained in 30.94 seconds\n"
          ]
        },
        {
          "output_type": "stream",
          "name": "stderr",
          "text": [
            "/usr/local/lib/python3.10/dist-packages/supervised/utils/learning_curves.py:113: FutureWarning: The behavior of Series.argmax/argmin with skipna=False and NAs, or with all-NAs is deprecated. In a future version this will raise ValueError.\n",
            "/usr/local/lib/python3.10/dist-packages/supervised/utils/learning_curves.py:113: FutureWarning: The behavior of Series.argmax/argmin with skipna=False and NAs, or with all-NAs is deprecated. In a future version this will raise ValueError.\n",
            "/usr/local/lib/python3.10/dist-packages/supervised/utils/learning_curves.py:113: FutureWarning: The behavior of Series.argmax/argmin with skipna=False and NAs, or with all-NAs is deprecated. In a future version this will raise ValueError.\n",
            "/usr/local/lib/python3.10/dist-packages/supervised/utils/learning_curves.py:113: FutureWarning: The behavior of Series.argmax/argmin with skipna=False and NAs, or with all-NAs is deprecated. In a future version this will raise ValueError.\n",
            "/usr/local/lib/python3.10/dist-packages/supervised/utils/learning_curves.py:113: FutureWarning: The behavior of Series.argmax/argmin with skipna=False and NAs, or with all-NAs is deprecated. In a future version this will raise ValueError.\n",
            "/usr/local/lib/python3.10/dist-packages/supervised/utils/learning_curves.py:113: FutureWarning: The behavior of Series.argmax/argmin with skipna=False and NAs, or with all-NAs is deprecated. In a future version this will raise ValueError.\n",
            "/usr/local/lib/python3.10/dist-packages/supervised/utils/learning_curves.py:113: FutureWarning: The behavior of Series.argmax/argmin with skipna=False and NAs, or with all-NAs is deprecated. In a future version this will raise ValueError.\n",
            "/usr/local/lib/python3.10/dist-packages/supervised/utils/learning_curves.py:113: FutureWarning: The behavior of Series.argmax/argmin with skipna=False and NAs, or with all-NAs is deprecated. In a future version this will raise ValueError.\n",
            "/usr/local/lib/python3.10/dist-packages/supervised/utils/learning_curves.py:113: FutureWarning: The behavior of Series.argmax/argmin with skipna=False and NAs, or with all-NAs is deprecated. In a future version this will raise ValueError.\n",
            "/usr/local/lib/python3.10/dist-packages/supervised/utils/learning_curves.py:113: FutureWarning: The behavior of Series.argmax/argmin with skipna=False and NAs, or with all-NAs is deprecated. In a future version this will raise ValueError.\n"
          ]
        },
        {
          "output_type": "stream",
          "name": "stdout",
          "text": [
            "123_NeuralNetwork logloss 2.461666 trained in 30.9 seconds\n"
          ]
        },
        {
          "output_type": "stream",
          "name": "stderr",
          "text": [
            "/usr/local/lib/python3.10/dist-packages/supervised/utils/learning_curves.py:113: FutureWarning: The behavior of Series.argmax/argmin with skipna=False and NAs, or with all-NAs is deprecated. In a future version this will raise ValueError.\n",
            "/usr/local/lib/python3.10/dist-packages/supervised/utils/learning_curves.py:113: FutureWarning: The behavior of Series.argmax/argmin with skipna=False and NAs, or with all-NAs is deprecated. In a future version this will raise ValueError.\n",
            "/usr/local/lib/python3.10/dist-packages/supervised/utils/learning_curves.py:113: FutureWarning: The behavior of Series.argmax/argmin with skipna=False and NAs, or with all-NAs is deprecated. In a future version this will raise ValueError.\n",
            "/usr/local/lib/python3.10/dist-packages/supervised/utils/learning_curves.py:113: FutureWarning: The behavior of Series.argmax/argmin with skipna=False and NAs, or with all-NAs is deprecated. In a future version this will raise ValueError.\n",
            "/usr/local/lib/python3.10/dist-packages/supervised/utils/learning_curves.py:113: FutureWarning: The behavior of Series.argmax/argmin with skipna=False and NAs, or with all-NAs is deprecated. In a future version this will raise ValueError.\n",
            "/usr/local/lib/python3.10/dist-packages/supervised/utils/learning_curves.py:113: FutureWarning: The behavior of Series.argmax/argmin with skipna=False and NAs, or with all-NAs is deprecated. In a future version this will raise ValueError.\n",
            "/usr/local/lib/python3.10/dist-packages/supervised/utils/learning_curves.py:113: FutureWarning: The behavior of Series.argmax/argmin with skipna=False and NAs, or with all-NAs is deprecated. In a future version this will raise ValueError.\n",
            "/usr/local/lib/python3.10/dist-packages/supervised/utils/learning_curves.py:113: FutureWarning: The behavior of Series.argmax/argmin with skipna=False and NAs, or with all-NAs is deprecated. In a future version this will raise ValueError.\n",
            "/usr/local/lib/python3.10/dist-packages/supervised/utils/learning_curves.py:113: FutureWarning: The behavior of Series.argmax/argmin with skipna=False and NAs, or with all-NAs is deprecated. In a future version this will raise ValueError.\n",
            "/usr/local/lib/python3.10/dist-packages/supervised/utils/learning_curves.py:113: FutureWarning: The behavior of Series.argmax/argmin with skipna=False and NAs, or with all-NAs is deprecated. In a future version this will raise ValueError.\n"
          ]
        },
        {
          "output_type": "stream",
          "name": "stdout",
          "text": [
            "124_NeuralNetwork_SelectedFeatures logloss 1.942688 trained in 30.74 seconds\n"
          ]
        },
        {
          "output_type": "stream",
          "name": "stderr",
          "text": [
            "/usr/local/lib/python3.10/dist-packages/supervised/utils/learning_curves.py:113: FutureWarning: The behavior of Series.argmax/argmin with skipna=False and NAs, or with all-NAs is deprecated. In a future version this will raise ValueError.\n",
            "/usr/local/lib/python3.10/dist-packages/supervised/utils/learning_curves.py:113: FutureWarning: The behavior of Series.argmax/argmin with skipna=False and NAs, or with all-NAs is deprecated. In a future version this will raise ValueError.\n",
            "/usr/local/lib/python3.10/dist-packages/supervised/utils/learning_curves.py:113: FutureWarning: The behavior of Series.argmax/argmin with skipna=False and NAs, or with all-NAs is deprecated. In a future version this will raise ValueError.\n",
            "/usr/local/lib/python3.10/dist-packages/supervised/utils/learning_curves.py:113: FutureWarning: The behavior of Series.argmax/argmin with skipna=False and NAs, or with all-NAs is deprecated. In a future version this will raise ValueError.\n",
            "/usr/local/lib/python3.10/dist-packages/supervised/utils/learning_curves.py:113: FutureWarning: The behavior of Series.argmax/argmin with skipna=False and NAs, or with all-NAs is deprecated. In a future version this will raise ValueError.\n",
            "/usr/local/lib/python3.10/dist-packages/supervised/utils/learning_curves.py:113: FutureWarning: The behavior of Series.argmax/argmin with skipna=False and NAs, or with all-NAs is deprecated. In a future version this will raise ValueError.\n",
            "/usr/local/lib/python3.10/dist-packages/supervised/utils/learning_curves.py:113: FutureWarning: The behavior of Series.argmax/argmin with skipna=False and NAs, or with all-NAs is deprecated. In a future version this will raise ValueError.\n",
            "/usr/local/lib/python3.10/dist-packages/supervised/utils/learning_curves.py:113: FutureWarning: The behavior of Series.argmax/argmin with skipna=False and NAs, or with all-NAs is deprecated. In a future version this will raise ValueError.\n",
            "/usr/local/lib/python3.10/dist-packages/supervised/utils/learning_curves.py:113: FutureWarning: The behavior of Series.argmax/argmin with skipna=False and NAs, or with all-NAs is deprecated. In a future version this will raise ValueError.\n",
            "/usr/local/lib/python3.10/dist-packages/supervised/utils/learning_curves.py:113: FutureWarning: The behavior of Series.argmax/argmin with skipna=False and NAs, or with all-NAs is deprecated. In a future version this will raise ValueError.\n"
          ]
        },
        {
          "output_type": "stream",
          "name": "stdout",
          "text": [
            "125_RandomForest logloss 1.4463 trained in 47.81 seconds\n",
            "126_RandomForest logloss 1.564298 trained in 43.04 seconds\n",
            "127_RandomForest logloss 1.449656 trained in 46.18 seconds\n",
            "128_RandomForest logloss 1.562488 trained in 50.13 seconds\n",
            "129_RandomForest logloss 1.451015 trained in 46.46 seconds\n",
            "130_RandomForest logloss 1.569218 trained in 45.54 seconds\n",
            "131_ExtraTrees logloss 1.473018 trained in 42.02 seconds\n",
            "132_ExtraTrees logloss 1.552375 trained in 44.68 seconds\n",
            "133_ExtraTrees logloss 1.474356 trained in 43.5 seconds\n",
            "134_ExtraTrees logloss 1.565651 trained in 39.49 seconds\n",
            "135_ExtraTrees_SelectedFeatures logloss 1.486321 trained in 43.88 seconds\n",
            "136_ExtraTrees_SelectedFeatures logloss 1.562565 trained in 42.8 seconds\n"
          ]
        },
        {
          "output_type": "stream",
          "name": "stderr",
          "text": [
            "/usr/local/lib/python3.10/dist-packages/sklearn/preprocessing/_encoders.py:868: FutureWarning: `sparse` was renamed to `sparse_output` in version 1.2 and will be removed in 1.4. `sparse_output` is ignored unless you leave `sparse` to its default value.\n"
          ]
        },
        {
          "output_type": "stream",
          "name": "stdout",
          "text": [
            "* Step boost_on_errors will try to check up to 1 model\n",
            "35_CatBoost_GoldenFeatures_BoostOnErrors logloss 0.837281 trained in 52.32 seconds\n",
            "* Step ensemble will try to check up to 1 model\n",
            "Ensemble logloss 0.717304 trained in 188.15 seconds\n",
            "AutoML fit time: 6181.91 seconds\n",
            "AutoML best model: Ensemble\n"
          ]
        },
        {
          "output_type": "execute_result",
          "data": {
            "text/plain": [
              "AutoML(mode='Compete',\n",
              "       results_path='/content/drive/MyDrive/Colab_Notebooks/nto/Automl_777',\n",
              "       total_time_limit=7200)"
            ],
            "text/html": [
              "<style>#sk-container-id-1 {color: black;background-color: white;}#sk-container-id-1 pre{padding: 0;}#sk-container-id-1 div.sk-toggleable {background-color: white;}#sk-container-id-1 label.sk-toggleable__label {cursor: pointer;display: block;width: 100%;margin-bottom: 0;padding: 0.3em;box-sizing: border-box;text-align: center;}#sk-container-id-1 label.sk-toggleable__label-arrow:before {content: \"▸\";float: left;margin-right: 0.25em;color: #696969;}#sk-container-id-1 label.sk-toggleable__label-arrow:hover:before {color: black;}#sk-container-id-1 div.sk-estimator:hover label.sk-toggleable__label-arrow:before {color: black;}#sk-container-id-1 div.sk-toggleable__content {max-height: 0;max-width: 0;overflow: hidden;text-align: left;background-color: #f0f8ff;}#sk-container-id-1 div.sk-toggleable__content pre {margin: 0.2em;color: black;border-radius: 0.25em;background-color: #f0f8ff;}#sk-container-id-1 input.sk-toggleable__control:checked~div.sk-toggleable__content {max-height: 200px;max-width: 100%;overflow: auto;}#sk-container-id-1 input.sk-toggleable__control:checked~label.sk-toggleable__label-arrow:before {content: \"▾\";}#sk-container-id-1 div.sk-estimator input.sk-toggleable__control:checked~label.sk-toggleable__label {background-color: #d4ebff;}#sk-container-id-1 div.sk-label input.sk-toggleable__control:checked~label.sk-toggleable__label {background-color: #d4ebff;}#sk-container-id-1 input.sk-hidden--visually {border: 0;clip: rect(1px 1px 1px 1px);clip: rect(1px, 1px, 1px, 1px);height: 1px;margin: -1px;overflow: hidden;padding: 0;position: absolute;width: 1px;}#sk-container-id-1 div.sk-estimator {font-family: monospace;background-color: #f0f8ff;border: 1px dotted black;border-radius: 0.25em;box-sizing: border-box;margin-bottom: 0.5em;}#sk-container-id-1 div.sk-estimator:hover {background-color: #d4ebff;}#sk-container-id-1 div.sk-parallel-item::after {content: \"\";width: 100%;border-bottom: 1px solid gray;flex-grow: 1;}#sk-container-id-1 div.sk-label:hover label.sk-toggleable__label {background-color: #d4ebff;}#sk-container-id-1 div.sk-serial::before {content: \"\";position: absolute;border-left: 1px solid gray;box-sizing: border-box;top: 0;bottom: 0;left: 50%;z-index: 0;}#sk-container-id-1 div.sk-serial {display: flex;flex-direction: column;align-items: center;background-color: white;padding-right: 0.2em;padding-left: 0.2em;position: relative;}#sk-container-id-1 div.sk-item {position: relative;z-index: 1;}#sk-container-id-1 div.sk-parallel {display: flex;align-items: stretch;justify-content: center;background-color: white;position: relative;}#sk-container-id-1 div.sk-item::before, #sk-container-id-1 div.sk-parallel-item::before {content: \"\";position: absolute;border-left: 1px solid gray;box-sizing: border-box;top: 0;bottom: 0;left: 50%;z-index: -1;}#sk-container-id-1 div.sk-parallel-item {display: flex;flex-direction: column;z-index: 1;position: relative;background-color: white;}#sk-container-id-1 div.sk-parallel-item:first-child::after {align-self: flex-end;width: 50%;}#sk-container-id-1 div.sk-parallel-item:last-child::after {align-self: flex-start;width: 50%;}#sk-container-id-1 div.sk-parallel-item:only-child::after {width: 0;}#sk-container-id-1 div.sk-dashed-wrapped {border: 1px dashed gray;margin: 0 0.4em 0.5em 0.4em;box-sizing: border-box;padding-bottom: 0.4em;background-color: white;}#sk-container-id-1 div.sk-label label {font-family: monospace;font-weight: bold;display: inline-block;line-height: 1.2em;}#sk-container-id-1 div.sk-label-container {text-align: center;}#sk-container-id-1 div.sk-container {/* jupyter's `normalize.less` sets `[hidden] { display: none; }` but bootstrap.min.css set `[hidden] { display: none !important; }` so we also need the `!important` here to be able to override the default hidden behavior on the sphinx rendered scikit-learn.org. See: https://github.com/scikit-learn/scikit-learn/issues/21755 */display: inline-block !important;position: relative;}#sk-container-id-1 div.sk-text-repr-fallback {display: none;}</style><div id=\"sk-container-id-1\" class=\"sk-top-container\"><div class=\"sk-text-repr-fallback\"><pre>AutoML(mode=&#x27;Compete&#x27;,\n",
              "       results_path=&#x27;/content/drive/MyDrive/Colab_Notebooks/nto/Automl_777&#x27;,\n",
              "       total_time_limit=7200)</pre><b>In a Jupyter environment, please rerun this cell to show the HTML representation or trust the notebook. <br />On GitHub, the HTML representation is unable to render, please try loading this page with nbviewer.org.</b></div><div class=\"sk-container\" hidden><div class=\"sk-item\"><div class=\"sk-estimator sk-toggleable\"><input class=\"sk-toggleable__control sk-hidden--visually\" id=\"sk-estimator-id-1\" type=\"checkbox\" checked><label for=\"sk-estimator-id-1\" class=\"sk-toggleable__label sk-toggleable__label-arrow\">AutoML</label><div class=\"sk-toggleable__content\"><pre>AutoML(mode=&#x27;Compete&#x27;,\n",
              "       results_path=&#x27;/content/drive/MyDrive/Colab_Notebooks/nto/Automl_777&#x27;,\n",
              "       total_time_limit=7200)</pre></div></div></div></div></div>"
            ]
          },
          "metadata": {},
          "execution_count": 12
        }
      ]
    },
    {
      "cell_type": "code",
      "source": [
        "automl = AutoML(results_path='Automl_777')"
      ],
      "metadata": {
        "id": "6Tgg5sqVTu9e"
      },
      "id": "6Tgg5sqVTu9e",
      "execution_count": null,
      "outputs": []
    },
    {
      "cell_type": "code",
      "source": [
        "pred  = automl.predict(df.iloc[:,:-1])"
      ],
      "metadata": {
        "id": "IIBGRvTNJ6YP"
      },
      "id": "IIBGRvTNJ6YP",
      "execution_count": null,
      "outputs": []
    },
    {
      "cell_type": "code",
      "execution_count": null,
      "id": "3cc8648a",
      "metadata": {
        "id": "3cc8648a"
      },
      "outputs": [],
      "source": [
        "res = pd.DataFrame({ 'id' : df.id, 'target' : pred})"
      ]
    },
    {
      "cell_type": "code",
      "source": [
        "res.to_csv('catboost2.csv', index=False)"
      ],
      "metadata": {
        "id": "WMNyuz7wgaVD"
      },
      "id": "WMNyuz7wgaVD",
      "execution_count": null,
      "outputs": []
    }
  ],
  "metadata": {
    "kernelspec": {
      "display_name": "Python 3",
      "name": "python3"
    },
    "language_info": {
      "codemirror_mode": {
        "name": "ipython",
        "version": 3
      },
      "file_extension": ".py",
      "mimetype": "text/x-python",
      "name": "python",
      "nbconvert_exporter": "python",
      "pygments_lexer": "ipython3",
      "version": "3.9.7"
    },
    "colab": {
      "provenance": [],
      "gpuType": "T4"
    },
    "accelerator": "GPU"
  },
  "nbformat": 4,
  "nbformat_minor": 5
}